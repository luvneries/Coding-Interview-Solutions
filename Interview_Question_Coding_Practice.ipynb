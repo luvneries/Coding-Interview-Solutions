{
 "cells": [
  {
   "cell_type": "markdown",
   "metadata": {},
   "source": [
    "## Coding interview preparation kit\n",
    "\n",
    "This notebook can be used to practice coding question commonly asked by tech companies. <br>\n",
    "Let's get started !!"
   ]
  },
  {
   "cell_type": "code",
   "execution_count": 16,
   "metadata": {},
   "outputs": [],
   "source": [
    "from IPython.core.interactiveshell import InteractiveShell\n",
    "InteractiveShell.ast_node_interactivity = \"all\""
   ]
  },
  {
   "cell_type": "markdown",
   "metadata": {},
   "source": [
    "# Difference between set and list\n",
    "\n",
    "\n",
    "1. Sets are unordered collections | List are ordered, you can access elements by index.\n",
    "2. Sets contains unique elements | List can be of duplicates items.\n"
   ]
  },
  {
   "cell_type": "markdown",
   "metadata": {},
   "source": [
    "Good to know these paradigm before facing any interview.\n",
    "\n",
    "1. Operating Systems: memory management, processes, threads, synchronization, paging, and multithreading.\n",
    "\n",
    "2. Internet Topics: DNS lookups, TCP/IP, Socket Connections, Web fundamentals.\n",
    "\n",
    "3. Distributed Computing: Load balancing, distributed cache, Service Oriented Architecture SOA, map reduce.\n",
    "\n",
    "4. Object Oriented Design: Appropriate use of Inheritance and aggregation.\n",
    "\n"
   ]
  },
  {
   "cell_type": "code",
   "execution_count": 17,
   "metadata": {},
   "outputs": [
    {
     "name": "stdout",
     "output_type": "stream",
     "text": [
      "1\n"
     ]
    }
   ],
   "source": [
    "# Difference between break, continue and pass\n",
    "\n",
    "n = 5\n",
    "arr = [1,2,3,4,5]\n",
    "m = 2\n",
    "index = 0\n",
    "for i in arr:\n",
    "    if i == m:\n",
    "        break              # Break current loop\n",
    "        continue          # skip current pass\n",
    "        #pass              # do nothing; acts as placeholder\n",
    "    print(i) \n",
    "    index +=1"
   ]
  },
  {
   "cell_type": "code",
   "execution_count": 53,
   "metadata": {},
   "outputs": [
    {
     "data": {
      "text/plain": [
       "0"
      ]
     },
     "execution_count": 53,
     "metadata": {},
     "output_type": "execute_result"
    }
   ],
   "source": [
    "\"thisisthebeginingis the\".find('')"
   ]
  },
  {
   "cell_type": "code",
   "execution_count": 18,
   "metadata": {},
   "outputs": [
    {
     "data": {
      "text/plain": [
       "0"
      ]
     },
     "execution_count": 18,
     "metadata": {},
     "output_type": "execute_result"
    },
    {
     "data": {
      "text/plain": [
       "1"
      ]
     },
     "execution_count": 18,
     "metadata": {},
     "output_type": "execute_result"
    },
    {
     "data": {
      "text/plain": [
       "2"
      ]
     },
     "execution_count": 18,
     "metadata": {},
     "output_type": "execute_result"
    }
   ],
   "source": [
    "def generator(n):\n",
    "    for i in range(n):\n",
    "        yield i\n",
    "\n",
    "gen = generator(5)\n",
    "next(gen)\n",
    "next(gen)\n",
    "next(gen)"
   ]
  },
  {
   "cell_type": "code",
   "execution_count": 20,
   "metadata": {},
   "outputs": [
    {
     "name": "stdout",
     "output_type": "stream",
     "text": [
      "2000\n",
      "Recursion#  10\n",
      "Recursion#  9\n",
      "Recursion#  8\n",
      "Recursion#  7\n",
      "Recursion#  6\n",
      "Recursion#  5\n",
      "Recursion#  4\n",
      "Recursion#  3\n",
      "Recursion#  2\n"
     ]
    }
   ],
   "source": [
    "#Recursion\n",
    "\n",
    "import sys\n",
    "print(sys.getrecursionlimit())\n",
    "\n",
    "def recursion(n):\n",
    "    if n==1:\n",
    "        return \n",
    "    print(\"Recursion# \", n)\n",
    "    return recursion(n-1)\n",
    "\n",
    "recursion(10) # if you give more than recursion limit it will fail\n"
   ]
  },
  {
   "cell_type": "code",
   "execution_count": 16,
   "metadata": {},
   "outputs": [
    {
     "data": {
      "text/plain": [
       "[1]"
      ]
     },
     "execution_count": 16,
     "metadata": {},
     "output_type": "execute_result"
    }
   ],
   "source": [
    "# Flattening a list\n",
    "\n",
    "arr = [[1,2,3],[4,5,[6,[7],8],9],10]\n",
    "\n",
    "nl = []\n",
    "def flatten_list(arr):\n",
    "    if len(arr)<=1:\n",
    "        return\n",
    "    for i in arr:\n",
    "        if isinstance(i, list):\n",
    "            flatten_list(i)\n",
    "        else:\n",
    "            nl.append(i)\n",
    "    return nl\n",
    "\n",
    "flatten_list(arr)    "
   ]
  },
  {
   "cell_type": "code",
   "execution_count": 3,
   "metadata": {},
   "outputs": [
    {
     "data": {
      "text/plain": [
       "[[4, 3, 2, 1], [8, 7, 6, 5], [12, 11, 10, 9]]"
      ]
     },
     "execution_count": 3,
     "metadata": {},
     "output_type": "execute_result"
    }
   ],
   "source": [
    "# Reverse nested list\n",
    "\n",
    "arr = [[1,2,3,4],[5,6,7,8],[9,10,11,12]]\n",
    "\n",
    "def reverse_list(arr):\n",
    "    result = []\n",
    "    for i in arr:\n",
    "        result.append(i[::-1])\n",
    "    return result\n",
    "    \n",
    "reverse_list(arr)"
   ]
  },
  {
   "cell_type": "code",
   "execution_count": 392,
   "metadata": {},
   "outputs": [
    {
     "data": {
      "text/plain": [
       "5"
      ]
     },
     "execution_count": 392,
     "metadata": {},
     "output_type": "execute_result"
    }
   ],
   "source": [
    "# Greatest common divisor in list of digits\n",
    "\n",
    "nums = [10,15,25]\n",
    "\n",
    "def gcd_list(nums):\n",
    "    result = nums[0]\n",
    "    for i in nums[1:]:\n",
    "        result = gcd(result, i)\n",
    "    return result\n",
    "        \n",
    "def gcd(A, B):\n",
    "    if A==0 or B == 0:\n",
    "        return A + B\n",
    "    if A==B:\n",
    "        return A\n",
    "    return gcd(A%B, B%A)\n",
    "\n",
    "gcd_list(nums)"
   ]
  },
  {
   "cell_type": "code",
   "execution_count": 387,
   "metadata": {},
   "outputs": [
    {
     "data": {
      "text/plain": [
       "102334155"
      ]
     },
     "execution_count": 387,
     "metadata": {},
     "output_type": "execute_result"
    },
    {
     "name": "stdout",
     "output_type": "stream",
     "text": [
      "Recursion time  37.7543249130249\n"
     ]
    },
    {
     "data": {
      "text/plain": [
       "102334155"
      ]
     },
     "execution_count": 387,
     "metadata": {},
     "output_type": "execute_result"
    },
    {
     "name": "stdout",
     "output_type": "stream",
     "text": [
      "Memoization time  0.0022389888763427734\n"
     ]
    },
    {
     "data": {
      "text/plain": [
       "102334155"
      ]
     },
     "execution_count": 387,
     "metadata": {},
     "output_type": "execute_result"
    },
    {
     "name": "stdout",
     "output_type": "stream",
     "text": [
      "Bottom up time  0.004701852798461914\n"
     ]
    }
   ],
   "source": [
    "# Different approaches for fibonacci series\n",
    "\n",
    "import time\n",
    "\n",
    "start_time = time.time()\n",
    "\n",
    "# Recursion\n",
    "def fib(n):\n",
    "    if n<=1:\n",
    "        return n\n",
    "    return (fib(n-1) + fib(n-2))\n",
    "\n",
    "fib(40)\n",
    "print(\"Recursion time \", time.time() - start_time)\n",
    "# Memoization - top down approach\n",
    "\n",
    "start_time = time.time()\n",
    "d = {}\n",
    "def memo_fib(n):\n",
    "    if not bool(d.get(n)):\n",
    "        if n<=1:\n",
    "            d[n] = n\n",
    "        else:\n",
    "            d[n] = memo_fib(n-1) + memo_fib(n-2)\n",
    "    return d[n]\n",
    "\n",
    "memo_fib(40)\n",
    "print(\"Memoization time \", time.time() - start_time)\n",
    "\n",
    "\n",
    "# Tabulation Bottom up approach # Dynamic Programming\n",
    "start_time = time.time()\n",
    "def bottom_up(n):\n",
    "    a, b = 0, 1\n",
    "    for i in range(n):\n",
    "        a,b = b, a+b\n",
    "    return a\n",
    "\n",
    "bottom_up(40)\n",
    "\n",
    "print(\"Bottom up time \", time.time() - start_time)"
   ]
  },
  {
   "cell_type": "code",
   "execution_count": 5,
   "metadata": {},
   "outputs": [
    {
     "data": {
      "text/plain": [
       "'y'"
      ]
     },
     "execution_count": 5,
     "metadata": {},
     "output_type": "execute_result"
    }
   ],
   "source": [
    "# Find Char/Number occured in array\n",
    "\n",
    "def occuring(arr):\n",
    "    d = {}\n",
    "    for i in arr:\n",
    "        d[i] = d.get(i,0)+1\n",
    "    for k, v in d.items():\n",
    "        if v==1:            # Change occurence as per your requirements\n",
    "            return k\n",
    "        \n",
    "occuring([0,0,1,1,2,2,3])\n",
    "\n",
    "occuring('mynameispankaj')"
   ]
  },
  {
   "cell_type": "code",
   "execution_count": 23,
   "metadata": {},
   "outputs": [
    {
     "name": "stdout",
     "output_type": "stream",
     "text": [
      "[3 5 5 3 1 4 8 2 2 8]\n"
     ]
    },
    {
     "data": {
      "text/plain": [
       "[3, 5, 1, 4, 8, 2]"
      ]
     },
     "execution_count": 23,
     "metadata": {},
     "output_type": "execute_result"
    }
   ],
   "source": [
    "# Remove duplicates\n",
    "\n",
    "import numpy as np\n",
    "x = np.random.randint(1,10,10)\n",
    "print(x)\n",
    "\n",
    "# for unsorted data, we use extra memory\n",
    "def remove_duplicates(x):\n",
    "    l = []\n",
    "    for i in x:\n",
    "        if i in l:\n",
    "            pass\n",
    "        else:\n",
    "            l.append(i)\n",
    "    return l\n",
    "\n",
    "remove_duplicates(x)"
   ]
  },
  {
   "cell_type": "code",
   "execution_count": 26,
   "metadata": {},
   "outputs": [
    {
     "data": {
      "text/plain": [
       "[1, 3, 2, 4]"
      ]
     },
     "execution_count": 26,
     "metadata": {},
     "output_type": "execute_result"
    }
   ],
   "source": [
    "# for sorted data we can do this without using extra memory\n",
    "\n",
    "x=[1,1,1,3,3,3,2,2,4]\n",
    "\n",
    "def remove_duplicates(x):\n",
    "    counter = 0\n",
    "    for i in range(len(x)-1):\n",
    "        if x[i] == x[i+1]:\n",
    "            counter += 1\n",
    "        elif counter > 0:\n",
    "            x[(i+1) - counter] = x[i+1]\n",
    "    newLength = len(x) - counter \n",
    "    return x[:newLength]\n",
    "\n",
    "remove_duplicates(x)"
   ]
  },
  {
   "cell_type": "code",
   "execution_count": 48,
   "metadata": {},
   "outputs": [],
   "source": [
    "s = \"\"\"On investigating we found that column level defaults were missing this table \n",
    "and I am not sure how this could have happend. \n",
    "Checking with you to see if this could have happend while you were testing regional sub-partioning. \n",
    "Please confirm back ASAP. For now I have manually added ap column level default to continue with the batch.\n",
    "\"\"\""
   ]
  },
  {
   "cell_type": "code",
   "execution_count": 9,
   "metadata": {},
   "outputs": [
    {
     "data": {
      "text/plain": [
       "3"
      ]
     },
     "execution_count": 9,
     "metadata": {},
     "output_type": "execute_result"
    }
   ],
   "source": [
    "# Count subString\n",
    "\n",
    "ss='ap'\n",
    "def count_sub_string(s, ss):\n",
    "    count = 0\n",
    "    for i in range(len(s)-len(ss)):\n",
    "        if s[i:i+len(ss)] == ss:\n",
    "            count += 1\n",
    "    return count\n",
    "\n",
    "count_sub_string(s, ss)"
   ]
  },
  {
   "cell_type": "code",
   "execution_count": 10,
   "metadata": {},
   "outputs": [
    {
     "data": {
      "text/plain": [
       "45"
      ]
     },
     "execution_count": 10,
     "metadata": {},
     "output_type": "execute_result"
    }
   ],
   "source": [
    "# count distinct words\n",
    "\n",
    "def count_distinct_words(s):\n",
    "    l = []\n",
    "    for i in s.lower().split():\n",
    "        if i not in l:\n",
    "            l.append(i)\n",
    "    return len(l)\n",
    "\n",
    "count_distinct_words(s)"
   ]
  },
  {
   "cell_type": "code",
   "execution_count": 52,
   "metadata": {},
   "outputs": [
    {
     "data": {
      "text/plain": [
       "(3, 'this')"
      ]
     },
     "execution_count": 52,
     "metadata": {},
     "output_type": "execute_result"
    }
   ],
   "source": [
    "# Most frequent words using dictionary \n",
    "import operator\n",
    "\n",
    "def most_frequent_words(s):\n",
    "    d = {}\n",
    "    for word in s.lower().split():\n",
    "            d[word] = d.get(word, 0)+1    \n",
    "    return sorted(((v,k) for k,v in d.items()), reverse=True, key=lambda x: x[0])[0]\n",
    "    #return sorted(((v,k) for k,v in d.items()), reverse=True, key=operator.itemgetter(0))[0]\n",
    "most_frequent_words(s)"
   ]
  },
  {
   "cell_type": "code",
   "execution_count": 12,
   "metadata": {},
   "outputs": [
    {
     "data": {
      "text/plain": [
       "True"
      ]
     },
     "execution_count": 12,
     "metadata": {},
     "output_type": "execute_result"
    }
   ],
   "source": [
    "# find any 2 number in a list is equal to a given sum\n",
    "arr = [1, 2,3,4,5,6,7]\n",
    "\n",
    "def sum_equals_num(arr, num):\n",
    "    for i in range(len(arr)):\n",
    "        for j in range(i, len(arr)):\n",
    "            if arr[i] + arr[j] == num:\n",
    "                return True\n",
    "    return False\n",
    "\n",
    "sum_equals_num(arr, 3)"
   ]
  },
  {
   "cell_type": "code",
   "execution_count": 13,
   "metadata": {},
   "outputs": [
    {
     "data": {
      "text/plain": [
       "True"
      ]
     },
     "execution_count": 13,
     "metadata": {},
     "output_type": "execute_result"
    }
   ],
   "source": [
    "# Unique String\n",
    "\n",
    "string = \"uniqeStrg\"\n",
    "def unique(string):\n",
    "    char_set = [0 for _ in range(128)]\n",
    "    for char in string:\n",
    "        val = ord(char)\n",
    "        if char_set[val]:\n",
    "            return False\n",
    "        char_set[val] = 1\n",
    "    return True\n",
    "\n",
    "unique(string)"
   ]
  },
  {
   "cell_type": "code",
   "execution_count": 58,
   "metadata": {},
   "outputs": [
    {
     "data": {
      "text/plain": [
       "True"
      ]
     },
     "execution_count": 58,
     "metadata": {},
     "output_type": "execute_result"
    }
   ],
   "source": [
    "# Permutation - 2 Strings having same number of characters\n",
    "# Check anagrams\n",
    "\n",
    "from collections import Counter\n",
    "\n",
    "def permutation(s1, s2, is_sorted=False):\n",
    "    if len(s1) != len(s2):\n",
    "        return False\n",
    "    if is_sorted:\n",
    "        if s1 == s2:\n",
    "            return True\n",
    "        else:\n",
    "            return False\n",
    "    else:\n",
    "        counter = Counter(s1)\n",
    "        for i in s2:\n",
    "            if counter[i] == 0:\n",
    "                return False\n",
    "            else:\n",
    "                counter[i] -= 1\n",
    "    return True\n",
    "\n",
    "permutation(\"waterbottle\", \"botlewatter\")"
   ]
  },
  {
   "cell_type": "code",
   "execution_count": 20,
   "metadata": {},
   "outputs": [
    {
     "data": {
      "text/plain": [
       "True"
      ]
     },
     "execution_count": 20,
     "metadata": {},
     "output_type": "execute_result"
    }
   ],
   "source": [
    "# Check if line/phrase is palindrome\n",
    "# all characters appears twice\n",
    "#exception of only one char may or may not appear once.\n",
    "\n",
    "def char_number(val):\n",
    "    if ord('a') <= ord(val) <= ord('z'):\n",
    "        return ord(val) - ord('a')\n",
    "    elif ord('A') <= ord(val) <= ord('Z'):\n",
    "        return ord(val) - ord('A')\n",
    "    else: return -1\n",
    "\n",
    "def palindrome(phrase):\n",
    "    table = [0 for _ in range(26)]\n",
    "    count_odd = 0\n",
    "    for c in phrase:\n",
    "        x = char_number(c)\n",
    "        if x != -1:\n",
    "            table[x] += 1\n",
    "            if table[x] % 2:\n",
    "                count_odd += 1\n",
    "            else: count_odd -= 1\n",
    "    return count_odd <= 1\n",
    "                \n",
    "palindrome(\"This i this\")"
   ]
  },
  {
   "cell_type": "code",
   "execution_count": 1,
   "metadata": {},
   "outputs": [
    {
     "data": {
      "text/plain": [
       "True"
      ]
     },
     "execution_count": 1,
     "metadata": {},
     "output_type": "execute_result"
    }
   ],
   "source": [
    "from collections import Counter\n",
    "def check_palindrome(string):\n",
    "    count = 0\n",
    "    counter = Counter(string.replace(\" \",\"\"))\n",
    "    for value in counter.values():\n",
    "        if value%2 != 0:\n",
    "            count += 1\n",
    "        if count > 1:\n",
    "            return False\n",
    "    return True        \n",
    "        \n",
    "check_palindrome(\"This iss This\")\n",
    "\n",
    "\n",
    "# Check if a string can be same from front and back\n",
    "s = 'madam'\n",
    "\n",
    "def checkPalindrome(s):\n",
    "    \n",
    "    if s == s.reverse():\n",
    "        return True\n",
    "    return False \n",
    "\n",
    "check_palindrome(s)\n",
    "\n"
   ]
  },
  {
   "cell_type": "code",
   "execution_count": 215,
   "metadata": {},
   "outputs": [
    {
     "data": {
      "text/plain": [
       "True"
      ]
     },
     "execution_count": 215,
     "metadata": {},
     "output_type": "execute_result"
    }
   ],
   "source": [
    "# Check if a string is substring of other\n",
    "\n",
    "def check_substring(s, ss):\n",
    "    return s.find(ss) != -1\n",
    "\n",
    "def string_rotation(s1, s2):\n",
    "    if len(s1) == len(s2):\n",
    "        return check_substring(s1+s1, s2)\n",
    "    return False\n",
    "\n",
    "string_rotation('waterbottle', 'bottlewater')"
   ]
  },
  {
   "cell_type": "code",
   "execution_count": null,
   "metadata": {},
   "outputs": [],
   "source": [
    "# One edit to guess the string\n",
    "\n",
    "def one_away(s1, s2):\n",
    "    if len(s1) == len(s2):\n",
    "        return one_edit_replace(s1, s2)\n",
    "    elif len(s1)+1 == len(s2):\n",
    "        return one_edit_insert(s1, s2)\n",
    "    elif len(s1) == len(s1)+1:\n",
    "        return one_edit_insert(s1, s2)\n",
    "    else:\n",
    "        return False\n",
    "    \n",
    "\n",
    "def one_edit_replace(s1, s2):\n",
    "    edited = False\n",
    "    for c1, c2 in zip(s1, s2):\n",
    "        if c1 != c2:\n",
    "            if edited:\n",
    "                return False\n",
    "            edited = True\n",
    "    return True\n",
    "    \n",
    "\n",
    "def one_edit_insert(s1, s2):\n",
    "    edited = False\n",
    "    i, j = 0, 0\n",
    "    while i < len(s1) and j < len(s2):\n",
    "        if s1[i] != s2[j]:\n",
    "            if edited:\n",
    "                return False\n",
    "            edited = True\n",
    "            j += 1\n",
    "        else:\n",
    "            i += 1\n",
    "            j += 1\n",
    "        return True\n",
    "    \n",
    "s1, s2 = 'pale', 'pales'\n",
    "\n",
    "one_away(s1, s2)"
   ]
  },
  {
   "cell_type": "code",
   "execution_count": 18,
   "metadata": {},
   "outputs": [
    {
     "data": {
      "text/plain": [
       "234"
      ]
     },
     "execution_count": 18,
     "metadata": {},
     "output_type": "execute_result"
    }
   ],
   "source": [
    "def edits1(word):\n",
    "    \"All edits that are one edit away from `word`.\"\n",
    "    letters    = 'abcdefghijklmnopqrstuvwxyz'\n",
    "    splits     = [(word[:i], word[i:])    for i in range(len(word) + 1)]\n",
    "    deletes    = [L + R[1:]               for L, R in splits if R]\n",
    "    transposes = [L + R[1] + R[0] + R[2:] for L, R in splits if len(R)>1]\n",
    "    replaces   = [L + c + R[1:]           for L, R in splits if R for c in letters]\n",
    "    inserts    = [L + c + R               for L, R in splits for c in letters]\n",
    "    return set(deletes + transposes + replaces + inserts)\n",
    "\n",
    "edits1('prin')"
   ]
  },
  {
   "cell_type": "code",
   "execution_count": 17,
   "metadata": {},
   "outputs": [
    {
     "data": {
      "text/plain": [
       "'a2b2'"
      ]
     },
     "execution_count": 17,
     "metadata": {},
     "output_type": "execute_result"
    }
   ],
   "source": [
    "# Count number of char in string using dictionary/hashtable\n",
    "\n",
    "from collections import Counter\n",
    "\n",
    "def string_compression(string):\n",
    "    d={}\n",
    "    for c in string:\n",
    "        d[c] = d.get(c, 0) + 1\n",
    "    \n",
    "    #d = Counter(string)\n",
    "    \n",
    "    result = \"\"\n",
    "    for k, v in d.items():\n",
    "        result = result + k + str(v)\n",
    "    return result\n",
    "    \n",
    "string_compression('aaabbcc')\n",
    "\n",
    "\n",
    "def string_compression(string):\n",
    "    counter = 1\n",
    "    result = ''\n",
    "    for i, char in enumerate(string):\n",
    "        if i+1 < len(string) and string[i] != string[i+1] :\n",
    "            result = result + char + str(counter)\n",
    "            counter = 0\n",
    "        counter += 1\n",
    "    return result\n",
    "\n",
    "string_compression('aabbcc')"
   ]
  },
  {
   "cell_type": "code",
   "execution_count": 22,
   "metadata": {},
   "outputs": [
    {
     "data": {
      "text/plain": [
       "'e'"
      ]
     },
     "execution_count": 22,
     "metadata": {},
     "output_type": "execute_result"
    }
   ],
   "source": [
    "# Maximum occured char in string\n",
    "import numpy as np\n",
    "\n",
    "def maximum_occured_char(string):\n",
    "    ord_char = [0]*128\n",
    "    for i in string:\n",
    "        ord_char[ord(i)] += 1\n",
    "    return chr(ord_char.index(max(ord_char)))\n",
    "\n",
    "maximum_occured_char(\"Wearetestingwhichcharacteroccuredmostoftimes\")"
   ]
  },
  {
   "cell_type": "code",
   "execution_count": 19,
   "metadata": {},
   "outputs": [
    {
     "data": {
      "text/plain": [
       "'gfe$c$ba'"
      ]
     },
     "execution_count": 19,
     "metadata": {},
     "output_type": "execute_result"
    }
   ],
   "source": [
    "# Reverse string with special characters.\n",
    "# Leave special characters \"$\" at same place.\n",
    "\n",
    "string = 'abc$e$fg'\n",
    "def reverse_string(string):\n",
    "    s = list(string)\n",
    "    first = 0\n",
    "    last = len(s)-1\n",
    "    while first < last:\n",
    "        if not s[first].isalpha():\n",
    "            first += 1\n",
    "        elif not s[last].isalpha():\n",
    "            last -= 1\n",
    "        else:\n",
    "            s[first], s[last] = s[last], s[first]\n",
    "            first += 1\n",
    "            last -= 1\n",
    "    return ''.join(s)\n",
    "\n",
    "reverse_string(string)\n"
   ]
  },
  {
   "cell_type": "code",
   "execution_count": 20,
   "metadata": {},
   "outputs": [
    {
     "data": {
      "text/plain": [
       "'B'"
      ]
     },
     "execution_count": 20,
     "metadata": {},
     "output_type": "execute_result"
    }
   ],
   "source": [
    "# Recurring character in a string\n",
    "\n",
    "def recurring_char(s):\n",
    "    l=[]\n",
    "    for char in s:\n",
    "        if char in l:\n",
    "            return char\n",
    "        else:\n",
    "            l.append(char)\n",
    "    return \"Not found\"\n",
    "\n",
    "recurring_char(\"ABaBcccc\")"
   ]
  },
  {
   "cell_type": "code",
   "execution_count": 21,
   "metadata": {},
   "outputs": [
    {
     "data": {
      "text/plain": [
       "77"
      ]
     },
     "execution_count": 21,
     "metadata": {},
     "output_type": "execute_result"
    }
   ],
   "source": [
    "# Count of vowels in a string using hashtable aka dictionary\n",
    "\n",
    "string = 'dfaHioUgfglklkadjlkadgkljglkajfIigdslkkfsdljkfsg;lkfgijklfgjsklgjskjroedafafdfafdafafdfafdafdagdgagadaaafddsafdfjfdldasjkfdasjlfjfdsajkl;dsafjklfdkljjlfasjkfdjkldfsajklfdsjklfjkigoiasgaertekjadlkfjdalfjasfjadlf;adfjklasd;aklfdjo;adfsoijafsoikenfjenjaknfjkasdnfcnndnjkfkl;ppdjiglsjfgiowekkjgsdflkjgffgogklslkjfjs;lkfjs;lkgjskjfgoejojeojfgosijgklsfjgsfoijgorejoijfjslkgjsjgnfsjgniorjtijrejgfdsjgsdfljkgfsdkljgsjdkkkkkkkkkkkkkkkkkkkkkkkkkkkk'\n",
    "\n",
    "def count_vowel(string):\n",
    "    d = {'a':'a', 'i':'i', 'e':'e', 'o':'o', 'u':'u'}\n",
    "    count = 0\n",
    "    for i in string:\n",
    "        if i in d:\n",
    "            count += 1\n",
    "    return count\n",
    "\n",
    "count_vowel(string)\n"
   ]
  },
  {
   "cell_type": "code",
   "execution_count": 23,
   "metadata": {},
   "outputs": [
    {
     "data": {
      "text/plain": [
       "['A', 'b', 'h', 'i', 'n', 'a']"
      ]
     },
     "execution_count": 23,
     "metadata": {},
     "output_type": "execute_result"
    }
   ],
   "source": [
    "# Find common element in 2 strings:\n",
    "\n",
    "def common_elements(s1, s2):\n",
    "    result = []\n",
    "    for i in s1:\n",
    "        if i in s2:\n",
    "            result.append(i)\n",
    "    return result\n",
    "\n",
    "common_elements(\"Abhinav\", \"Abhimanyu\")"
   ]
  },
  {
   "cell_type": "code",
   "execution_count": 24,
   "metadata": {},
   "outputs": [
    {
     "data": {
      "text/plain": [
       "['A', 'b', 'h', 'i', 'n']"
      ]
     },
     "execution_count": 24,
     "metadata": {},
     "output_type": "execute_result"
    }
   ],
   "source": [
    "# Find common elements in a sorted string\n",
    "\n",
    "def common_elements(s1, s2):\n",
    "    result = []\n",
    "    p1 = 0\n",
    "    p2 = 0\n",
    "    while p1 < len(s1) and p2 < len(s2):\n",
    "        if s1[p1] == s2[p2]:\n",
    "            result.append(s1[p1])\n",
    "            p1 += 1\n",
    "            p2 += 1\n",
    "        elif s1[p1] > s2[p2]:\n",
    "            p2 += 1\n",
    "        else:\n",
    "            p1 += 1\n",
    "    return result\n",
    "\n",
    "common_elements(\"Abhinav\", \"Abhimanyu\")"
   ]
  },
  {
   "cell_type": "code",
   "execution_count": 37,
   "metadata": {},
   "outputs": [
    {
     "data": {
      "text/plain": [
       "{'A', 'a', 'b', 'h', 'i', 'n'}"
      ]
     },
     "execution_count": 37,
     "metadata": {},
     "output_type": "execute_result"
    }
   ],
   "source": [
    "set(\"Abhinav\").intersection(set(\"Abhimanyu\"))"
   ]
  },
  {
   "cell_type": "code",
   "execution_count": 25,
   "metadata": {},
   "outputs": [
    {
     "data": {
      "text/plain": [
       "True"
      ]
     },
     "execution_count": 25,
     "metadata": {},
     "output_type": "execute_result"
    }
   ],
   "source": [
    "import re\n",
    "\n",
    "s = \"On Investigating 9 i found\"\n",
    "\n",
    "re.match(r'On I....tigating 9 i f..nd', s, re.I).group()\n",
    "re.search(r'I....tigating 9 i f..nd', s, re.I).group()\n",
    "re.sub('\\D', \"\", s)\n",
    "\n",
    "# Match string\n",
    "\n",
    "email = \"myemail87@domain.com\"\n",
    "bool(re.search(r'[\\w]+@[\\w]+.[\\w]+', email))\n"
   ]
  },
  {
   "cell_type": "code",
   "execution_count": 26,
   "metadata": {},
   "outputs": [
    {
     "data": {
      "text/plain": [
       "('1', '1', datetime.datetime(2018, 4, 8, 9, 35, 14))"
      ]
     },
     "execution_count": 26,
     "metadata": {},
     "output_type": "execute_result"
    }
   ],
   "source": [
    "# Make some sql connection\n",
    "\n",
    "import MySQLdb\n",
    "\n",
    "conn = MySQLdb.connect(host='localhost', user='root', password='root', database='Uber')\n",
    "\n",
    "sql = 'select * from time_taken'\n",
    "\n",
    "cursor = conn.cursor()\n",
    "cursor.execute(sql)\n",
    "cursor.fetchone()"
   ]
  },
  {
   "cell_type": "code",
   "execution_count": 396,
   "metadata": {},
   "outputs": [
    {
     "data": {
      "text/plain": [
       "<matplotlib.figure.Figure at 0x10f5ae518>"
      ]
     },
     "execution_count": 396,
     "metadata": {},
     "output_type": "execute_result"
    },
    {
     "data": {
      "text/plain": [
       "<matplotlib.collections.PathCollection at 0x10fab00f0>"
      ]
     },
     "execution_count": 396,
     "metadata": {},
     "output_type": "execute_result"
    },
    {
     "data": {
      "image/png": "[encoded data removed]",
      "text/plain": [
       "<matplotlib.figure.Figure at 0x10f5ae518>"
      ]
     },
     "metadata": {},
     "output_type": "display_data"
    },
    {
     "data": {
      "text/plain": [
       "[array([1.5, 2. ]), array([1.7, 1.9]), array([2., 2.])]"
      ]
     },
     "execution_count": 396,
     "metadata": {},
     "output_type": "execute_result"
    }
   ],
   "source": [
    "# K closet points\n",
    "\n",
    "import matplotlib.pyplot as plt\n",
    "%matplotlib inline\n",
    "\n",
    "plt.figure(figsize=(4,2))\n",
    "points = np.array([[2,2],[1.5, 2], [3.5,4],[4,4.5],[2.5,2.5],[1.7,1.9]])\n",
    "plt.scatter(points[:,0], points[:,1])\n",
    "plt.show()\n",
    "\n",
    "import math \n",
    "\n",
    "def k_closet_points(points, k, point):\n",
    "    distance=[]\n",
    "    for i in points:\n",
    "        x, y = i[0], i[1]\n",
    "        distance.append(math.sqrt((x-point[0])**2 + (y-point[1])**2))\n",
    "    #index = np.argsort(distance)[:k]\n",
    "    #return np.array([points[i] for i in index])\n",
    "    index = sorted(range(len(distance)), key=lambda i: distance[i])[:k]\n",
    "    return [points[i] for i in index]\n",
    "\n",
    "k_closet_points(points, 3, [0,0])"
   ]
  },
  {
   "cell_type": "code",
   "execution_count": 324,
   "metadata": {},
   "outputs": [
    {
     "data": {
      "text/plain": [
       "[2, 0, 1]"
      ]
     },
     "execution_count": 324,
     "metadata": {},
     "output_type": "execute_result"
    },
    {
     "data": {
      "text/plain": [
       "[4, 1, 5, 2, 3, 0, 10]"
      ]
     },
     "execution_count": 324,
     "metadata": {},
     "output_type": "execute_result"
    }
   ],
   "source": [
    "# Find K smallest points using heap\n",
    "import heapq as q\n",
    "k = 3\n",
    "\n",
    "arr = [4, 1, 5, 2, 3, 0, 10]\n",
    "\n",
    "def k_smallest(arr, k):\n",
    "    l=arr[:k]\n",
    "    q._heapify_max(l)\n",
    "    for i in range(k, len(arr)):\n",
    "        if arr[i] < l[0]:\n",
    "            q.heappop(l)\n",
    "            q.heappush(l, arr[i])\n",
    "            q._heapify_max(l)\n",
    "    return l\n",
    "        \n",
    "k_smallest(arr, k)"
   ]
  },
  {
   "cell_type": "code",
   "execution_count": 404,
   "metadata": {},
   "outputs": [
    {
     "data": {
      "text/plain": [
       "[[1, 3], [2, 2], [3, 1]]"
      ]
     },
     "execution_count": 404,
     "metadata": {},
     "output_type": "execute_result"
    }
   ],
   "source": [
    "# Find optimized distance travel of flight\n",
    "max_dist = 20\n",
    "arrival = [[1,5],[2,10],[3,15]]\n",
    "departure = [[1,5],[2,10],[3,15]]\n",
    "\n",
    "def find_optimized_route(arrival, departure, max_dist):\n",
    "    max_dist_travelled = 0\n",
    "    pairs = []\n",
    "    \n",
    "    for i in arrival:\n",
    "        for j in departure:\n",
    "            if i[1]+j[1] >= max_dist_travelled and i[1]+j[1] <= max_dist:\n",
    "                if i[1]+j[1] == max_dist_travelled:\n",
    "                    pairs.append([i[0],j[0]])\n",
    "                else:\n",
    "                    pairs = [[i[0],j[0]]]\n",
    "                    max_dist_travelled = (i[1]+j[1])\n",
    "                    \n",
    "    return pairs\n",
    "\n",
    "find_optimized_route(arrival, departure, max_dist)"
   ]
  },
  {
   "cell_type": "code",
   "execution_count": 60,
   "metadata": {},
   "outputs": [
    {
     "data": {
      "text/plain": [
       "4"
      ]
     },
     "execution_count": 60,
     "metadata": {},
     "output_type": "execute_result"
    }
   ],
   "source": [
    "# With change in given array count bulbs that are off\n",
    "# Every time u encounter an off bulb turn it on\n",
    "# When you turn any bulb, remaining bulb switch state 1-->0 , 0-->1\n",
    "\n",
    "arr = [1,1,1,0,0,1,1,0,0,1]\n",
    "\n",
    "class Solution:\n",
    "    def __init__(self, arr):\n",
    "        self.arr = arr\n",
    "        self.count=0\n",
    "        self.bulb_off = 0\n",
    "    \n",
    "    def bulbs(self):\n",
    "        for i in range(len(self.arr)):\n",
    "            if self.arr[i] is self.bulb_off:\n",
    "                self.count += 1\n",
    "                for j in range(i, len(self.arr)):\n",
    "                    if self.arr[j] is self.bulb_off:\n",
    "                        self.arr[j] = 1\n",
    "                    else:\n",
    "                        self.arr[j] = 0\n",
    "        return self.count\n",
    "    \n",
    "sol = Solution(arr)\n",
    "sol.bulbs()"
   ]
  },
  {
   "cell_type": "code",
   "execution_count": 31,
   "metadata": {},
   "outputs": [
    {
     "data": {
      "text/plain": [
       "4"
      ]
     },
     "execution_count": 31,
     "metadata": {},
     "output_type": "execute_result"
    }
   ],
   "source": [
    "# This solution doesn't make any change in given array\n",
    "\n",
    "arr = [1,1,1,0,0,1,1,0,0,1]\n",
    "\n",
    "def bulbs_off(arr):\n",
    "    count = 0\n",
    "    bulb_off = 0\n",
    "    for i in range(len(arr)):\n",
    "        if arr[i] is bulb_off:\n",
    "            count += 1\n",
    "            bulb_off = 1 - bulb_off\n",
    "    return count\n",
    "    \n",
    "bulbs_off(arr)  "
   ]
  },
  {
   "cell_type": "code",
   "execution_count": 15,
   "metadata": {},
   "outputs": [
    {
     "name": "stdout",
     "output_type": "stream",
     "text": [
      "9500.0\n",
      "26000.0\n"
     ]
    }
   ],
   "source": [
    "# Calculate tax\n",
    "\n",
    "tax_slab = [[10000, 0.0], [30000, 0.1], [60000, 0.2], [None, 0.3]]\n",
    "\n",
    "def calculate_tax(income, tax_slab):\n",
    "    tax = 0\n",
    "    for i in range(1, len(tax_slab)):\n",
    "        if tax_slab[i][0] and income > tax_slab[i][0]:\n",
    "            tax += (tax_slab[i][0] - tax_slab[i-1][0]) * tax_slab[i][1]\n",
    "        else:\n",
    "            tax += (income - tax_slab[i-1][0]) * tax_slab[i][1]\n",
    "    return tax\n",
    "\n",
    "print(calculate_tax(65000, tax_slab))\n",
    "print(calculate_tax(120000, tax_slab))"
   ]
  },
  {
   "cell_type": "code",
   "execution_count": 67,
   "metadata": {},
   "outputs": [
    {
     "data": {
      "text/plain": [
       "array([[ 0.,  0.,  0.,  0.],\n",
       "       [ 0.,  1.,  2.,  2.],\n",
       "       [ 0.,  1., -1., -1.],\n",
       "       [ 0.,  1.,  2.,  2.]])"
      ]
     },
     "execution_count": 67,
     "metadata": {},
     "output_type": "execute_result"
    }
   ],
   "source": [
    "# Minesweeper to place 1 near by and place -1 to actual place where bomb exploded \n",
    "\n",
    "def minesweeper(bombs, num_rows, num_cols):\n",
    "    field = np.zeros((num_rows, num_cols))\n",
    "    for bomb in bombs:\n",
    "        row_i = bomb[0]\n",
    "        col_i = bomb[1]\n",
    "        field[row_i][col_i] = -1\n",
    "        for i in range(row_i-1, row_i+2):\n",
    "            for j in range(col_i-1, col_i+2):\n",
    "                if i >= 0 and i < num_rows and j >= 0 and j < num_cols and field[i][j] != -1:\n",
    "                    field[i][j] += 1\n",
    "    return field\n",
    "    \n",
    "minesweeper([[2,2], [2,3]], 4, 4)"
   ]
  },
  {
   "cell_type": "code",
   "execution_count": 70,
   "metadata": {},
   "outputs": [
    {
     "name": "stdout",
     "output_type": "stream",
     "text": [
      "3\n"
     ]
    },
    {
     "data": {
      "text/plain": [
       "array([[7, 4, 1],\n",
       "       [8, 5, 2],\n",
       "       [9, 6, 3]])"
      ]
     },
     "execution_count": 70,
     "metadata": {},
     "output_type": "execute_result"
    }
   ],
   "source": [
    "# Rotate a matrix\n",
    "\n",
    "matrix = np.array([[1,2,3],[4,5,6],[7,8,9]])\n",
    "\n",
    "def rotate_matrix(matrix):\n",
    "    n=len(matrix)\n",
    "\n",
    "    for layer in range(n//2):\n",
    "        first, last = layer, n-layer-1\n",
    "        \n",
    "        for i in range(first, last):\n",
    "            top = matrix[layer][i]\n",
    "            \n",
    "            # Left --> Top\n",
    "            matrix[layer][i] = matrix[-i-1][layer]\n",
    "            \n",
    "            # Bottom --> Left\n",
    "            matrix[-i-1][layer] = matrix[layer-1][-i-1]\n",
    "            \n",
    "            # Right --> Bottom\n",
    "            matrix[-layer-1][-i-1] = matrix[i][-layer-1]\n",
    "            \n",
    "            # Top --> Right\n",
    "            matrix[i][-layer-1] = top\n",
    "    return matrix\n",
    "\n",
    "rotate_matrix(matrix)\n",
    "            \n",
    "    "
   ]
  },
  {
   "cell_type": "code",
   "execution_count": 217,
   "metadata": {},
   "outputs": [
    {
     "data": {
      "text/plain": [
       "(5, 5)"
      ]
     },
     "execution_count": 217,
     "metadata": {},
     "output_type": "execute_result"
    }
   ],
   "source": [
    "# Largest contiguous subarray of integers which makes zero sum in a list \n",
    "# O(n^2)\n",
    "\n",
    "def zero_sum(arr):\n",
    "    max_len = 0\n",
    "    index = 0\n",
    "    for i in range(len(arr)):\n",
    "        curr_sum = 0\n",
    "        for j in range(i, len(arr)):\n",
    "            curr_sum += arr[j]\n",
    "            if curr_sum == 0:\n",
    "                max_len = max(max_len, (j-i)+1)\n",
    "                index=j\n",
    "    return max_len, index\n",
    "\n",
    "zero_sum([15, -2, 2, -8, 1, 7, 10, 13])\n",
    "                "
   ]
  },
  {
   "cell_type": "code",
   "execution_count": 310,
   "metadata": {},
   "outputs": [
    {
     "data": {
      "text/plain": [
       "7"
      ]
     },
     "execution_count": 310,
     "metadata": {},
     "output_type": "execute_result"
    }
   ],
   "source": [
    "# Count the pairs of number whose sum in less than x\n",
    "\n",
    "x = 14\n",
    "arr = [2,4,6,8,9]\n",
    "\n",
    "def count_pairs(arr, x):\n",
    "    first = 0\n",
    "    last = len(arr)-1\n",
    "    count = 0\n",
    "    \n",
    "    while first < last:\n",
    "        if arr[first] + arr[last] < x:\n",
    "            count += last - first\n",
    "            first += 1\n",
    "        else:\n",
    "            last -= 1\n",
    "            \n",
    "    return count \n",
    "\n",
    "count_pairs(arr, x)\n",
    "    "
   ]
  },
  {
   "cell_type": "code",
   "execution_count": 229,
   "metadata": {},
   "outputs": [
    {
     "data": {
      "text/plain": [
       "31"
      ]
     },
     "execution_count": 229,
     "metadata": {},
     "output_type": "execute_result"
    }
   ],
   "source": [
    "# Largest contiguous subarray problem to return maxium sum\n",
    "# O(n), dynamic programming approach\n",
    "\n",
    "def kadane_algorithm(nums):\n",
    "    max_global = nums[0]\n",
    "    max_current = nums[0]\n",
    "    \n",
    "    for i in range(1,len(nums)):\n",
    "        max_current = max(nums[i], max_current+nums[i])\n",
    "        \n",
    "        if max_current > max_global:\n",
    "            max_global = max_current\n",
    "    return max_global\n",
    "    \n",
    "kadane_algorithm([6, -2, 2, -8, 1, 7, 10, 13])"
   ]
  },
  {
   "cell_type": "code",
   "execution_count": 260,
   "metadata": {},
   "outputs": [
    {
     "data": {
      "text/plain": [
       "4"
      ]
     },
     "execution_count": 260,
     "metadata": {},
     "output_type": "execute_result"
    }
   ],
   "source": [
    "# longest increasing subsequence of a given sequence / array.\n",
    "def lis(A):\n",
    "    res = []\n",
    "    for num in A:\n",
    "        if not res:\n",
    "            res.append(num)\n",
    "            continue\n",
    "        if num > res[-1]:\n",
    "            res.append(num)\n",
    "            continue\n",
    "        low = 0\n",
    "        high = len(res) - 1\n",
    "        while low < high:\n",
    "            mid = (low + high)//2\n",
    "            if res[mid] < num:\n",
    "                low = mid + 1\n",
    "            else:\n",
    "                high = mid\n",
    "        res[high] = num\n",
    "    return len(res)\n",
    "\n",
    "lis([6, -2, 2, 1, 10, 13])"
   ]
  },
  {
   "cell_type": "code",
   "execution_count": 36,
   "metadata": {},
   "outputs": [
    {
     "data": {
      "text/plain": [
       "5"
      ]
     },
     "execution_count": 36,
     "metadata": {},
     "output_type": "execute_result"
    }
   ],
   "source": [
    "# Max length of zero sum with hashmap - linear time complexity\n",
    "\n",
    "def zero_sum(arr):\n",
    "    hash_map = {}\n",
    "    max_len = 0\n",
    "    curr_sum = 0\n",
    "    \n",
    "    for i in range(len(arr)):\n",
    "        curr_sum += arr[i]\n",
    "        if arr[i] == 0 and max_len == 0:\n",
    "            max_len = 1\n",
    "        if curr_sum == 0:\n",
    "            max_len = i + 1\n",
    "        if curr_sum in hash_map:\n",
    "            max_len = max(max_len, i - hash_map[curr_sum])\n",
    "        else:\n",
    "            hash_map[curr_sum] = i\n",
    "    return max_len\n",
    "        \n",
    "\n",
    "zero_sum([15, -2, 2, -8, 1, 7, 10, 13])\n"
   ]
  },
  {
   "cell_type": "code",
   "execution_count": 284,
   "metadata": {},
   "outputs": [
    {
     "data": {
      "text/plain": [
       "44"
      ]
     },
     "execution_count": 284,
     "metadata": {},
     "output_type": "execute_result"
    }
   ],
   "source": [
    "# Steps to climb a ladder\n",
    "\n",
    "def triple_step(n):\n",
    "    counts = [1,1,2]\n",
    "    if n<3:\n",
    "        return counts[n]\n",
    "    \n",
    "    i = 2\n",
    "    while i<n:\n",
    "        i+=1\n",
    "        counts[i%3] = sum(counts)\n",
    "    return counts[i%3]\n",
    "\n",
    "triple_step(7)"
   ]
  },
  {
   "cell_type": "code",
   "execution_count": 55,
   "metadata": {},
   "outputs": [
    {
     "data": {
      "text/plain": [
       "8"
      ]
     },
     "execution_count": 55,
     "metadata": {},
     "output_type": "execute_result"
    }
   ],
   "source": [
    "steps_allowed=[1,3,5]\n",
    "\n",
    "def find_steps(n):\n",
    "    if n==0:\n",
    "        return 1\n",
    "    nums =[0]*(n)\n",
    "    nums[0] = 1\n",
    "    for i in range(1,n):\n",
    "        total = 0\n",
    "        for step in steps_allowed:\n",
    "            if i-step >= 0:\n",
    "                total += nums[i-step]\n",
    "        nums[i] = total\n",
    "    return nums[-1]\n",
    "\n",
    "find_steps(7)"
   ]
  },
  {
   "cell_type": "code",
   "execution_count": 286,
   "metadata": {},
   "outputs": [
    {
     "data": {
      "text/plain": [
       "120"
      ]
     },
     "execution_count": 286,
     "metadata": {},
     "output_type": "execute_result"
    }
   ],
   "source": [
    "def factorial(n):\n",
    "    if n==1:\n",
    "        return 1\n",
    "    return n*factorial(n-1) \n",
    "\n",
    "factorial(5)"
   ]
  },
  {
   "cell_type": "code",
   "execution_count": 27,
   "metadata": {},
   "outputs": [
    {
     "data": {
      "text/plain": [
       "[2, 4, 0]"
      ]
     },
     "execution_count": 27,
     "metadata": {},
     "output_type": "execute_result"
    }
   ],
   "source": [
    "# Add 1 to a list and carry the number if sum becomes 10\n",
    "\n",
    "arr = [2,3,9]\n",
    "\n",
    "def add_one(arr):\n",
    "    carry = 1\n",
    "    result = [0] * len(arr)\n",
    "    for i in range(len(arr)-1, -1, -1):\n",
    "        if (arr[i] + carry) % 10 == 0:\n",
    "            carry = 1\n",
    "        else:\n",
    "            result[i] = arr[i] + carry\n",
    "            carry = 0\n",
    "    if carry == 1:\n",
    "        result = [0] * (len(arr)+1)\n",
    "        result[0] = 1\n",
    "    return result\n",
    "\n",
    "add_one(arr)"
   ]
  },
  {
   "cell_type": "code",
   "execution_count": 100,
   "metadata": {},
   "outputs": [
    {
     "data": {
      "text/plain": [
       "[[3, 4], [9, 10], [12, 16]]"
      ]
     },
     "execution_count": 100,
     "metadata": {},
     "output_type": "execute_result"
    }
   ],
   "source": [
    "# Find if 2 users are online at same time, given login - logout information from users.\n",
    "\n",
    "userA = [(0.25, 0.40), (2, 4), (9, 10), (11, 18)]\n",
    "userB = [(0.50, 0.75), (3, 5), (7, 11), (12, 16)]\n",
    "\n",
    "\n",
    "def find_intervals(userA, userB):\n",
    "    intervals = []\n",
    "    for i in range(len(userA)):\n",
    "        userA_login, userA_logout = userA[i]\n",
    "        userB_login, userB_logout = userB[i]\n",
    "        if min(userA_logout, userB_logout) - max(userA_login, userB_login) > 0:\n",
    "            intervals.append([max(userA_login, userB_login), min(userA_logout, userB_logout)])\n",
    "    return intervals\n",
    "\n",
    "find_intervals(userA, userB)"
   ]
  },
  {
   "cell_type": "code",
   "execution_count": 101,
   "metadata": {},
   "outputs": [
    {
     "data": {
      "text/plain": [
       "[]"
      ]
     },
     "execution_count": 101,
     "metadata": {},
     "output_type": "execute_result"
    }
   ],
   "source": [
    "# Find all possible words for a given string\n",
    "\n",
    "s = \"apple\"\n",
    "\n",
    "num_str = \"1123\"\n",
    "def helper(current, i, num_str, result ):\n",
    "    L = len(num_str)\n",
    "    if i == L:\n",
    "        return result.append(current)\n",
    "    n_s = [int(num_str(i))]\n",
    "    \n",
    "    if i + 1 < len(num_str):\n",
    "        n_s.append(int(num_str[i] + num_str[i+1]))\n",
    "        \n",
    "    delta = 1\n",
    "    for n in n_s:\n",
    "        if 1<=n and n<=26:\n",
    "            c = chr(ord('a') + n-1)\n",
    "            helper(current + c, i + delta, num_str, result, L, n_s)\n",
    "        delta +=1\n",
    "    \n",
    "def num_decodings(num_str):\n",
    "    result = []\n",
    "    helper = (\"\", 0, num_str, result)\n",
    "    return result\n",
    "\n",
    "num_decodings(num_str)"
   ]
  },
  {
   "cell_type": "code",
   "execution_count": 106,
   "metadata": {},
   "outputs": [
    {
     "data": {
      "text/plain": [
       "'aabbcy'"
      ]
     },
     "execution_count": 106,
     "metadata": {},
     "output_type": "execute_result"
    }
   ],
   "source": [
    "# Given a list of string, find string which can cover all strings in list\n",
    "\n",
    "slist = ['aab', 'aabb', 'bc', 'ccx', 'cy']\n",
    "\n",
    "def find_string(slist):\n",
    "    s = slist[0]\n",
    "    for x in slist[1:]:\n",
    "        if len(x) >= len(s):\n",
    "            if s in x:\n",
    "                s = x\n",
    "            else:\n",
    "                delta = len(x) - len(s)\n",
    "                for i in range(len(s) - 1):\n",
    "                    if s[i] != x[delta+i : delta+1]:\n",
    "                        s += x[delta+i:]\n",
    "    else:\n",
    "        delta = len(s) - len(x)\n",
    "        for i in range(len(x) -1):\n",
    "            if x[i] != s[delta + i: delta+i+1]:\n",
    "                s = s+x[i:]\n",
    "    return s\n",
    "                    \n",
    "find_string(slist)"
   ]
  },
  {
   "cell_type": "code",
   "execution_count": 5,
   "metadata": {},
   "outputs": [
    {
     "data": {
      "text/plain": [
       "7"
      ]
     },
     "execution_count": 5,
     "metadata": {},
     "output_type": "execute_result"
    }
   ],
   "source": [
    "# Given an array of numbers in sorted order, count pair of numbers whose sum is less than x\n",
    "arr = [2,4,6,8,9]\n",
    "x = 14\n",
    "\n",
    "def count_pairs(arr, x):\n",
    "    count = 0 \n",
    "    for i in range(len(arr)):\n",
    "        first_index = i\n",
    "        last_index = len(arr)-1\n",
    "        while last_index > first_index:\n",
    "            if arr[first_index]+arr[last_index] < x:\n",
    "                count += (last_index-first_index)\n",
    "                break\n",
    "            else:\n",
    "                last_index = last_index - 1\n",
    "    return count\n",
    "            \n",
    "count_pairs(arr, x)"
   ]
  },
  {
   "cell_type": "code",
   "execution_count": 198,
   "metadata": {},
   "outputs": [
    {
     "data": {
      "text/plain": [
       "[5, 4, 3, 2, 1]"
      ]
     },
     "execution_count": 198,
     "metadata": {},
     "output_type": "execute_result"
    }
   ],
   "source": [
    "# Reversing an array in place\n",
    "l = [1,2,3,4,5]\n",
    "\n",
    "def revereseList(l):\n",
    "    first = 0\n",
    "    last = len(l)-1\n",
    "    \n",
    "    while first < last:\n",
    "        l[first], l[last] = l[last], l[first]\n",
    "        first +=1\n",
    "        last -= 1\n",
    "    return l\n",
    "\n",
    "revereseList(l)"
   ]
  },
  {
   "cell_type": "code",
   "execution_count": 210,
   "metadata": {},
   "outputs": [
    {
     "data": {
      "text/plain": [
       "4321"
      ]
     },
     "execution_count": 210,
     "metadata": {},
     "output_type": "execute_result"
    }
   ],
   "source": [
    "def reverseNumber(num):\n",
    "    reverseNum = 0\n",
    "    \n",
    "    while num>0:\n",
    "        remainder = num%10\n",
    "        num = num//10\n",
    "        reverseNum = reverseNum * 10 + remainder\n",
    "        \n",
    "    return reverseNum\n",
    "\n",
    "reverseNumber(1234) "
   ]
  },
  {
   "cell_type": "code",
   "execution_count": 214,
   "metadata": {},
   "outputs": [
    {
     "name": "stdout",
     "output_type": "stream",
     "text": [
      "Repeating number  2\n"
     ]
    }
   ],
   "source": [
    "# find duplicates in array assuming values are less than length of array\n",
    "# without using extra memory and linear time complexity\n",
    "\n",
    "def findDuplicates(nums):\n",
    "    for num in nums:\n",
    "        if nums[abs(num)] >=0:\n",
    "            nums[abs(num)] = -nums[abs(num)]\n",
    "        else:\n",
    "            print(\"Repeating number \", abs(num))\n",
    "        \n",
    "findDuplicates([2,3,1,2])"
   ]
  },
  {
   "cell_type": "code",
   "execution_count": 231,
   "metadata": {},
   "outputs": [],
   "source": [
    "# Find middle node in linked list\n",
    "\n",
    "def find_middle_node(ll):\n",
    "    if not ll.head:\n",
    "        return\n",
    "    \n",
    "    slow_pointer = ll.head\n",
    "    fast_pointer = ll.head\n",
    "    \n",
    "    while fast_pointer.next and fast_pointer.next.next:\n",
    "        slow_pointer = slow_pointer.next\n",
    "        fast_pointer = fast_pointer.next.next\n",
    "        \n",
    "    return slow_pointer.data"
   ]
  },
  {
   "cell_type": "code",
   "execution_count": null,
   "metadata": {},
   "outputs": [],
   "source": [
    "# Reverse a linked list in place\n",
    "\n",
    "def reverse_linkedlist(ll):\n",
    "    \n",
    "    currentNode = ll.head \n",
    "    previousNode = Node\n",
    "    \n",
    "    while currentNode:\n",
    "        nextNode = currentNode.nextNode\n",
    "        currentNode.nextNode = previousNode\n",
    "        previousNode = currentNode\n",
    "        currentNode = nextNode\n",
    "        \n",
    "    self.head = previousNode\n",
    "    \n",
    "    return ll"
   ]
  },
  {
   "cell_type": "code",
   "execution_count": 46,
   "metadata": {
    "scrolled": true
   },
   "outputs": [
    {
     "data": {
      "image/png": "[encoded data removed]",
      "text/plain": [
       "<matplotlib.figure.Figure at 0x107325320>"
      ]
     },
     "metadata": {},
     "output_type": "display_data"
    },
    {
     "data": {
      "text/plain": [
       "25"
      ]
     },
     "execution_count": 46,
     "metadata": {},
     "output_type": "execute_result"
    }
   ],
   "source": [
    "# measure water in bars\n",
    "\n",
    "bars = [4,0,2,0,1,0,4,0,5,0,3,0,1]\n",
    "import matplotlib.pyplot as plt\n",
    "%matplotlib inline\n",
    "\n",
    "plt.figure(figsize=(8,2))\n",
    "plt.bar(range(len(bars)), bars)\n",
    "plt.show()\n",
    "\n",
    "def measure_water(bars):\n",
    "    water=0\n",
    "    for i in range(1,len(bars)):\n",
    "        vol_at_curr_bar = min(max(bars[:i]), max(bars[i:])) - bars[i]\n",
    "        if vol_at_curr_bar > 0:\n",
    "            water += vol_at_curr_bar\n",
    "    return water\n",
    "\n",
    "measure_water(bars)"
   ]
  },
  {
   "cell_type": "code",
   "execution_count": 49,
   "metadata": {},
   "outputs": [
    {
     "data": {
      "text/plain": [
       "4"
      ]
     },
     "execution_count": 49,
     "metadata": {},
     "output_type": "execute_result"
    }
   ],
   "source": [
    "# You have 2 jugs - 3 and 5 ltr capacity each\n",
    "# Meaure 4 litre of water\n",
    "\n",
    "class jug:\n",
    "    def __init__(self, capacity):\n",
    "        self.capacity = capacity\n",
    "        self.water = 0\n",
    "    \n",
    "    def fill(self):\n",
    "        self.water = self.capacity\n",
    "    \n",
    "    def pour(self, jug):\n",
    "        total = self.water + jug.water\n",
    "        jug.water = min(total, jug.capacity)\n",
    "        self.water = total - jug.water\n",
    "    \n",
    "    def dump(self):\n",
    "        self.water = 0\n",
    "        \n",
    "\n",
    "def measure_four():\n",
    "    jug3 = jug(3)\n",
    "    jug5 = jug(5)\n",
    "    \n",
    "    jug3.fill()\n",
    "    jug3.pour(jug5)\n",
    "    jug3.fill()\n",
    "    jug3.pour(jug5)\n",
    "    jug5.dump()\n",
    "    jug3.pour(jug5)\n",
    "    jug3.fill()\n",
    "    jug3.pour(jug5)\n",
    "    return jug5.water\n",
    "\n",
    "measure_four()"
   ]
  },
  {
   "cell_type": "code",
   "execution_count": 373,
   "metadata": {},
   "outputs": [
    {
     "data": {
      "text/plain": [
       "14"
      ]
     },
     "execution_count": 373,
     "metadata": {},
     "output_type": "execute_result"
    }
   ],
   "source": [
    "# Which pill bottle has more weight\n",
    "\n",
    "class bottles:\n",
    "    def __init__(self, pill_weight = 1.0):\n",
    "        self.pill_weight = pill_weight \n",
    "    \n",
    "    def pill(self):\n",
    "        return self.pill_weight\n",
    "    \n",
    "def pill_bottles(bottles):\n",
    "    pills=[]\n",
    "    for i, bottle in enumerate(bottles):\n",
    "        pills += [bottle.pill()]*(i+1)\n",
    "    weight = use_scale(pills)\n",
    "    index = (weight - 210) * 10\n",
    "    return int(index + 0.1)\n",
    "\n",
    "def use_scale(pills):\n",
    "    return sum(pills)\n",
    "\n",
    "pill_bottles([bottles(),bottles(),bottles(),bottles(),bottles(),\n",
    "             bottles(),bottles(),bottles(),bottles(),bottles(),\n",
    "             bottles(),bottles(),bottles(),bottles(1.1),bottles(),\n",
    "             bottles(),bottles(),bottles(),bottles(),bottles()])"
   ]
  },
  {
   "cell_type": "code",
   "execution_count": 71,
   "metadata": {},
   "outputs": [
    {
     "name": "stdout",
     "output_type": "stream",
     "text": [
      "['c', 'n', 't', 's', 's']\n",
      "['d', 'a', 't', 'i', 'n']\n",
      "['o', 'o', 'm', 'e', 'l']\n",
      "['s', 'i', 'k', 'n', 'd']\n",
      "['p', 'i', 'c', 'l', 'e']\n",
      "Found cat directions from (0, 0)(c) go  ↘️ ↗️\n",
      "Found cats directions from (0, 0)(c) go  ↘️ ↗️ ➡️\n",
      "Found cat directions from (0, 0)(c) go  ↘️ ➡️\n",
      "Found cats directions from (0, 0)(c) go  ↘️ ➡️ ↗️\n",
      "Found sine directions from (0, 3)(s) go  ⬇️ ➡️ ↙️\n",
      "Found sine directions from (0, 4)(s) go  ↙️ ➡️ ↙️\n",
      "Found dot directions from (1, 0)(d) go  ↘️ ↗️\n",
      "Found man directions from (2, 2)(m) go  ↖️ ⬆️\n",
      "Found mood directions from (2, 2)(m) go  ⬅️ ⬅️ ⬆️\n",
      "Found sick directions from (3, 0)(s) go  ➡️ ↘️ ⬆️\n",
      "Found sick directions from (3, 0)(s) go  ↘️ ➡️ ⬆️\n",
      "Found pickle directions from (4, 0)(p) go  ↗️ ↘️ ⬆️ ↘️ ➡️\n",
      "Found pickle directions from (4, 0)(p) go  ➡️ ➡️ ⬆️ ↘️ ➡️\n"
     ]
    }
   ],
   "source": [
    "# Boogle problem\n",
    "#words_list = ['CAT', 'DOG', 'BYTE', 'TUBE', 'CAN', 'ANT', 'CAR', 'TANK']\n",
    "\n",
    "from collections import defaultdict\n",
    "from nltk.corpus import words\n",
    "from nltk.corpus import stopwords\n",
    "from nltk.tokenize import word_tokenize\n",
    "\n",
    "# If interviewer doesn't provide list of words\n",
    "#english_words = words.words()\n",
    "#stop_words = set(stopwords.words('english'))\n",
    "#english_words = [ word for word in english_words if word not in stop_words]\n",
    "\n",
    "\n",
    "english_words = ['apple', 'pickle', 'side', 'kick', 'sick', 'mood', 'cat',\n",
    "                'cats', 'man','super','antman', 'godzila', 'dog', 'dot',\n",
    "                 'sine', 'cos', 'signal', 'bitcoin', 'cool','zapper'\n",
    "                ]\n",
    "\n",
    "\n",
    "boggle = [['c','n','t','s','s'],\n",
    "         ['d','a','t','i','n'],\n",
    "         ['o','o','m','e','l'],\n",
    "         ['s','i','k','n','d'],\n",
    "         ['p','i','c','l','e']]\n",
    "\n",
    "\n",
    "lenc = len(boggle[0])\n",
    "lenr = len(boggle)\n",
    "\n",
    "# Initialize trie datastructure\n",
    "trie_node = {'valid': False, 'next': {}}\n",
    "\n",
    "neighbours_delta = [\n",
    "    (-1,-1, \"↖️\"),\n",
    "    (-1,0, \"⬆️\"),\n",
    "    (-1,1, \"↗️\"),\n",
    "    (0,1, \"➡️\"),\n",
    "    (1,1, \"↘️\"),\n",
    "    (1,0, \"⬇️\"),\n",
    "    (1,-1, \"↙️\"),\n",
    "    (0,-1, \"⬅️\")\n",
    "]\n",
    "\n",
    "def gen_trie(word, node):\n",
    "    if not word:\n",
    "        return \n",
    "    \n",
    "    if word[0] not in node:\n",
    "        node[word[0]] = {'valid': len(word)==1, 'next':{}}\n",
    "        \n",
    "    # Recursivley build trie\n",
    "    gen_trie(word[1:], node[word[0]])\n",
    "    \n",
    "\n",
    "def build_trie(words, trie):\n",
    "    for word in words:\n",
    "        gen_trie(word, trie)\n",
    "    return trie\n",
    "\n",
    "\n",
    "def get_neighbour(r, c):\n",
    "    n = []\n",
    "    for neigh in neighbours_delta:\n",
    "        new_r = r + neigh[0]\n",
    "        new_c = c + neigh[1]\n",
    "        \n",
    "        if (new_r >= lenr) or (new_c >= lenc) or (new_r < 0) or (new_c <0):\n",
    "            continue\n",
    "        n.append((new_r, new_c, neigh[2]))\n",
    "    return n\n",
    "    \n",
    "\n",
    "def dfs(r, c, visited, trie, now_word, direction):\n",
    "    \"\"\"Scan the graph using DFS\"\"\"\n",
    "    if (r, c) in visited:\n",
    "        return \n",
    "    letter = boggle[r][c]\n",
    "    visited.append((r, c))\n",
    "    \n",
    "    if letter in trie:\n",
    "        now_word += letter\n",
    "        \n",
    "        if trie[letter]['valid']:\n",
    "            print('Found {} {}'.format(now_word, direction))\n",
    "            \n",
    "        neighbours = get_neighbour(r, c)\n",
    "        for n in neighbours:\n",
    "            dfs(n[0], n[1], visited[::], trie[letter], now_word, direction +\" \"+n[2])\n",
    "\n",
    "def main(trie_node):\n",
    "    trie_node = build_trie(english_words, trie_node)\n",
    "    \n",
    "    for i in range(lenr):print(boggle[i])\n",
    "    \n",
    "    for r in range(lenr):\n",
    "        for c in range(lenc):\n",
    "            letter = boggle[r][c]\n",
    "            dfs(r, c, [], trie_node, '', 'directions from ({}, {})({}) go '.format(r, c, letter))\n",
    "            \n",
    "        \n",
    "if __name__==\"__main__\":\n",
    "    main(trie_node)\n",
    "    "
   ]
  },
  {
   "cell_type": "code",
   "execution_count": 74,
   "metadata": {},
   "outputs": [
    {
     "name": "stdout",
     "output_type": "stream",
     "text": [
      "Input\n",
      "[1, 1, 1, 1, 1, 1, 1, 1]\n",
      "[1, 1, 1, 1, 1, 1, 2, 0]\n",
      "[1, 0, 0, 1, 0, 2, 1, 1]\n",
      "[1, 2, 2, 2, 2, 0, 1, 0]\n",
      "[1, 1, 1, 2, 2, 0, 1, 0]\n",
      "[1, 1, 1, 2, 2, 2, 2, 0]\n",
      "[1, 1, 1, 1, 1, 2, 1, 1]\n",
      "[2, 2, 1, 1, 1, 2, 2, 1]\n",
      "-------------------------\n",
      "output\n",
      "[1, 1, 1, 1, 1, 1, 1, 1]\n",
      "[1, 1, 1, 1, 1, 1, 3, 0]\n",
      "[1, 0, 0, 1, 0, 3, 1, 1]\n",
      "[1, 3, 3, 3, 3, 0, 1, 0]\n",
      "[1, 1, 1, 3, 3, 0, 1, 0]\n",
      "[1, 1, 1, 3, 3, 3, 3, 0]\n",
      "[1, 1, 1, 1, 1, 3, 1, 1]\n",
      "[2, 2, 1, 1, 1, 3, 3, 1]\n"
     ]
    }
   ],
   "source": [
    "# Flood fill algorithm\n",
    "\n",
    "img = [\n",
    "[1, 1, 1, 1, 1, 1, 1, 1],\n",
    "[1, 1, 1, 1, 1, 1, 2, 0],\n",
    "[1, 0, 0, 1, 0, 2, 1, 1],\n",
    "[1, 2, 2, 2, 2, 0, 1, 0],\n",
    "[1, 1, 1, 2, 2, 0, 1, 0],\n",
    "[1, 1, 1, 2, 2, 2, 2, 0],\n",
    "[1, 1, 1, 1, 1, 2, 1, 1],\n",
    "[2, 2, 1, 1, 1, 2, 2, 1],\n",
    "]\n",
    "\n",
    "\n",
    "lenr = len(img)\n",
    "lenc = len(img[0])\n",
    "\n",
    "visited = []\n",
    "\n",
    "\n",
    "def neighbours(r, c):\n",
    "    \"\"\"Calculates the neighbours of a given cell\"\"\"\n",
    "    return [[r+1, c], [r+1, c], [r-1, c], [r, c-1],\n",
    "            [r+1, c+1], [r+1, c-1], [r-1, c-1], [r-1, c+1]]\n",
    "\n",
    "\n",
    "def flood_fill(r, c, color, replace_color):\n",
    "    \"\"\"Flood fills the given segment starting from given index\"\"\"\n",
    "    if r < 0 or r >= lenr:\n",
    "        return\n",
    "\n",
    "    if c < 0 or c >= lenc:\n",
    "        return\n",
    "\n",
    "    if img[r][c] != color:\n",
    "        return\n",
    "\n",
    "    img[r][c] = replace_color\n",
    "\n",
    "    visited.append([r, c])\n",
    "\n",
    "    moves = neighbours(r, c)\n",
    "\n",
    "    for move in moves:\n",
    "        if move not in visited:\n",
    "            flood_fill(move[0], move[1], color, replace_color)\n",
    "\n",
    "\n",
    "def flood_img():\n",
    "    print(\"Input\")\n",
    "\n",
    "    for i in img:\n",
    "        print(i)\n",
    "\n",
    "    replace_point = (4, 4)\n",
    "    flood_fill(*replace_point, color=2, replace_color=3)\n",
    "\n",
    "    print(\"-\" * 25)\n",
    "    print(\"output\")\n",
    "    for i in img:\n",
    "        print(i)\n",
    "\n",
    "\n",
    "flood_img()"
   ]
  },
  {
   "cell_type": "code",
   "execution_count": 45,
   "metadata": {},
   "outputs": [
    {
     "name": "stdout",
     "output_type": "stream",
     "text": [
      "Is BST\n"
     ]
    }
   ],
   "source": [
    "INT_MAX = 4294967296\n",
    "INT_MIN = -4294967296\n",
    "  \n",
    "# A binary tree node \n",
    "class Node: \n",
    "  \n",
    "    # Constructor to create a new node \n",
    "    def __init__(self, data): \n",
    "        self.data = data  \n",
    "        self.left = None\n",
    "        self.right = None\n",
    "  \n",
    "  \n",
    "# Returns true if the given tree is a binary search tree \n",
    "# (efficient version) \n",
    "def isBST(node): \n",
    "    return (isBSTUtil(node, INT_MIN, INT_MAX)) \n",
    "  \n",
    "# Retusn true if the given tree is a BST and its values \n",
    "# >= min and <= max \n",
    "def isBSTUtil(node, mini, maxi): \n",
    "      \n",
    "    # An empty tree is BST \n",
    "    if node is None: \n",
    "        return True\n",
    "  \n",
    "    # False if this node violates min/max constraint \n",
    "    if node.data < mini or node.data > maxi: \n",
    "        return False\n",
    "\n",
    "    return (isBSTUtil(node.left, mini, node.data -1) and\n",
    "          isBSTUtil(node.right, node.data+1, maxi)) \n",
    "  \n",
    "\n",
    "# Driver program to test above function \n",
    "root = Node(4) \n",
    "root.left = Node(2) \n",
    "root.right = Node(5) \n",
    "root.left.left = Node(1) \n",
    "root.left.right = Node(3) \n",
    "  \n",
    "if (isBST(root)): \n",
    "    print (\"Is BST\")\n",
    "else: \n",
    "    print (\"Not a BST\")\n",
    "  "
   ]
  },
  {
   "cell_type": "code",
   "execution_count": 43,
   "metadata": {},
   "outputs": [
    {
     "data": {
      "text/plain": [
       "True"
      ]
     },
     "execution_count": 43,
     "metadata": {},
     "output_type": "execute_result"
    }
   ],
   "source": [
    "# Check if a tree is balanced\n",
    "\n",
    "def is_balanced(root_node):\n",
    "    left_count = 0\n",
    "    right_count = 0\n",
    "    \n",
    "    if root_node is None:\n",
    "        return \n",
    "    \n",
    "    left_subtree = root_node.left\n",
    "    right_subtree = root_node.right\n",
    "    \n",
    "    while left_subtree:\n",
    "        left_count += 1\n",
    "        left_subtree = left_subtree.left\n",
    "\n",
    "    while right_subtree:\n",
    "        right_count += 1\n",
    "        right_subtree = right_subtree.right\n",
    "    \n",
    "    return abs(left_count - right_count) <= 1 \n",
    "        \n",
    "is_balanced(root_node)"
   ]
  },
  {
   "cell_type": "code",
   "execution_count": 44,
   "metadata": {},
   "outputs": [
    {
     "data": {
      "text/plain": [
       "3"
      ]
     },
     "execution_count": 44,
     "metadata": {},
     "output_type": "execute_result"
    }
   ],
   "source": [
    "# Count of leaf node of a binary tree\n",
    "\n",
    "def count_leaf(node):\n",
    "    if node is None:\n",
    "        return 0\n",
    "    if node.left is None and node.right is None:\n",
    "        return 1\n",
    "    else:\n",
    "        return count_leaf(node.right) + count_leaf(node.left)\n",
    "    \n",
    "count_leaf(root_node)"
   ]
  },
  {
   "cell_type": "code",
   "execution_count": 45,
   "metadata": {},
   "outputs": [
    {
     "data": {
      "text/plain": [
       "5"
      ]
     },
     "execution_count": 45,
     "metadata": {},
     "output_type": "execute_result"
    }
   ],
   "source": [
    "# Size of a binary tree\n",
    "\n",
    "def size(node):\n",
    "    if node is None:\n",
    "        return 0\n",
    "    else:\n",
    "        return size(node.left) + 1 + size(node.right)\n",
    "\n",
    "size(root_node)"
   ]
  },
  {
   "cell_type": "code",
   "execution_count": 21,
   "metadata": {},
   "outputs": [
    {
     "data": {
      "text/plain": [
       "True"
      ]
     },
     "execution_count": 21,
     "metadata": {},
     "output_type": "execute_result"
    },
    {
     "data": {
      "text/plain": [
       "False"
      ]
     },
     "execution_count": 21,
     "metadata": {},
     "output_type": "execute_result"
    }
   ],
   "source": [
    "def binary_search(arr, number):\n",
    "    first = 0\n",
    "    last = len(arr)-1\n",
    "    \n",
    "    while first <= last:\n",
    "        mid = (first + last) // 2\n",
    "        if arr[mid] == number:\n",
    "            return True\n",
    "        elif arr[mid] < number:\n",
    "            first = mid + 1\n",
    "        else:\n",
    "            last = mid -1\n",
    "    return False\n",
    "\n",
    "binary_search([1,2,3,4,5,6,7,8,9], 2)\n",
    "binary_search([1,2,3,4,5,6,7,8,9], 11)\n"
   ]
  },
  {
   "cell_type": "markdown",
   "metadata": {},
   "source": [
    "### Questions from Hacker rank"
   ]
  },
  {
   "cell_type": "markdown",
   "metadata": {},
   "source": [
    "### Warmup challenges"
   ]
  },
  {
   "cell_type": "code",
   "execution_count": 46,
   "metadata": {},
   "outputs": [
    {
     "data": {
      "text/plain": [
       "4"
      ]
     },
     "execution_count": 46,
     "metadata": {},
     "output_type": "execute_result"
    }
   ],
   "source": [
    "# Jumping cloud, You can jump 1 or 2 clouds.\n",
    "# Cloud with 0 are good cloud and avoid jumping on cloud with 1 integer\n",
    "\n",
    "c=[0,0,1,0,0,0,1,0]\n",
    "\n",
    "def jumpingOnClouds(c):\n",
    "    jumps = 0\n",
    "    i = 0\n",
    "    # Our approach is to add jump for all iterations \n",
    "    # and skip cases where we can take 2 jumps on valid cloud\n",
    "    while i < len(c)-1: #Iterate through length of clouds\n",
    "        if i+2 < len(c) and c[i+2] != 1: # Check if 2 jumps are on valid cloud\n",
    "            i += 1 # If jumps is valid move forward in list\n",
    "        jumps += 1 \n",
    "        i += 1\n",
    "    return jumps\n",
    "\n",
    "jumpingOnClouds(c)"
   ]
  },
  {
   "cell_type": "code",
   "execution_count": 21,
   "metadata": {},
   "outputs": [
    {
     "data": {
      "text/plain": [
       "3"
      ]
     },
     "execution_count": 21,
     "metadata": {},
     "output_type": "execute_result"
    },
    {
     "data": {
      "text/plain": [
       "3"
      ]
     },
     "execution_count": 21,
     "metadata": {},
     "output_type": "execute_result"
    }
   ],
   "source": [
    "# Count pair of socks\n",
    "\n",
    "socks = [10,20,20,10,10,30,50,10,20]\n",
    "\n",
    "def sockMerchant(ar):\n",
    "    pair_socks = {}\n",
    "    pairs = 0\n",
    "    for i in ar:\n",
    "        pair_socks[i] = pair_socks.get(i, 0)+1\n",
    "    for v in pair_socks.values():\n",
    "        if v>=2:\n",
    "            pairs += v//2\n",
    "    return pairs\n",
    "\n",
    "sockMerchant(socks)\n",
    "sum(socks.count(x)//2 for x in set(socks))"
   ]
  },
  {
   "cell_type": "code",
   "execution_count": 47,
   "metadata": {},
   "outputs": [
    {
     "data": {
      "text/plain": [
       "-1"
      ]
     },
     "execution_count": 47,
     "metadata": {},
     "output_type": "execute_result"
    }
   ],
   "source": [
    "# Traverse valley and mountains and find count of valleys\n",
    "traversing = 'U'\n",
    "\n",
    "def countingValley(traversing):\n",
    "    numberOfValleys = 0\n",
    "    count = 0  \n",
    "    for i in traversing:\n",
    "        if count==0 and i == 'U':\n",
    "            numberOfValleys -= 1\n",
    "            count += 1\n",
    "        elif i =='U':\n",
    "            count += 1\n",
    "        else:\n",
    "            count -= 1\n",
    "        if count == 0:\n",
    "            numberOfValleys += 1\n",
    "    return numberOfValleys\n",
    "\n",
    "countingValley(traversing) "
   ]
  },
  {
   "cell_type": "code",
   "execution_count": 38,
   "metadata": {},
   "outputs": [
    {
     "data": {
      "text/plain": [
       "7"
      ]
     },
     "execution_count": 38,
     "metadata": {},
     "output_type": "execute_result"
    }
   ],
   "source": [
    "# Count number of character in a string, repeated to value n\n",
    "s='aba'\n",
    "n = 10\n",
    "\n",
    "def repeatedString(s, n):\n",
    "    c = s.count('a')\n",
    "    l = len(s)\n",
    "    i = int(n/l)\n",
    "    r = n % l\n",
    "    c = i*c + s[:r].count('a')\n",
    "    return c\n",
    "\n",
    "repeatedString(s, n)"
   ]
  },
  {
   "cell_type": "markdown",
   "metadata": {},
   "source": [
    "### Arrays"
   ]
  },
  {
   "cell_type": "code",
   "execution_count": 81,
   "metadata": {},
   "outputs": [
    {
     "data": {
      "text/plain": [
       "28"
      ]
     },
     "execution_count": 81,
     "metadata": {},
     "output_type": "execute_result"
    }
   ],
   "source": [
    "# Hourglass\n",
    "\n",
    "matrix = [[-9, -9, -9,  1, 1, 1],\n",
    " [0, -9,  0,  4, 3, 2],\n",
    " [-9, -9, -9, 1, 2, 3],\n",
    " [0,  0,  8,  6, 6, 0],\n",
    " [0,  0,  0, -2, 0, 0],\n",
    " [0,  0,  1,  2, 4, 0]]\n",
    "\n",
    "\n",
    "def hourglass(arr):\n",
    "    nl = []\n",
    "    for i in range(len(arr)-2):\n",
    "        for j in range(len(arr[i])-2):\n",
    "            nl.append(sum(arr[i][j:j+3]) + arr[i+1][j+1] + sum(arr[i+2][j:j+3]))\n",
    "    return max(nl)\n",
    "    \n",
    "hourglass(matrix)"
   ]
  },
  {
   "cell_type": "code",
   "execution_count": 86,
   "metadata": {},
   "outputs": [
    {
     "data": {
      "text/plain": [
       "3"
      ]
     },
     "execution_count": 86,
     "metadata": {},
     "output_type": "execute_result"
    }
   ],
   "source": [
    "arr = [2, 3, 4, 1, 5]\n",
    "arr = [4,3,1,2]\n",
    "def swaps(arr):\n",
    "    swap = 0\n",
    "    for i in range(len(arr)):\n",
    "        curr_min = arr[i]\n",
    "        index = i\n",
    "        for j in range(i, len(arr)):\n",
    "            if arr[j] < curr_min:\n",
    "                curr_min = arr[j]\n",
    "                index = j\n",
    "        if i != index:\n",
    "            arr[i], arr[index] = arr[index], arr[i]\n",
    "            swap += 1\n",
    "    return swap\n",
    "\n",
    "swaps(arr)\n"
   ]
  },
  {
   "cell_type": "code",
   "execution_count": 96,
   "metadata": {},
   "outputs": [
    {
     "data": {
      "text/plain": [
       "'YES'"
      ]
     },
     "execution_count": 96,
     "metadata": {},
     "output_type": "execute_result"
    }
   ],
   "source": [
    "s1 = \"hello\"\n",
    "s2 = \"world\"\n",
    "def twoStrings(s1, s2):\n",
    "    #return (\"NO\" if set(s1).isdisjoint(set(s2)) else \"YES\")\n",
    "    return ('YES' if set(s1).intersection(set(s2)) else 'NO')\n",
    "\n",
    "twoStrings(s1, s2)"
   ]
  },
  {
   "cell_type": "code",
   "execution_count": 112,
   "metadata": {},
   "outputs": [
    {
     "data": {
      "text/plain": [
       "4"
      ]
     },
     "execution_count": 112,
     "metadata": {},
     "output_type": "execute_result"
    }
   ],
   "source": [
    "q=[2,5,1,3,4]\n",
    "\n",
    "# Complete the minimumSwaps function below.\n",
    "def minimumSwaps(arr) :    \n",
    "    swap=0\n",
    "    i=0\n",
    "    while i<len(arr):\n",
    "        if arr[i]==(i+1):\n",
    "            i+=1\n",
    "            continue\n",
    "        arr[arr[i]-1], arr[i] = arr[i], arr[arr[i]-1]\n",
    "        swap+=1\n",
    "    return swap"
   ]
  },
  {
   "cell_type": "code",
   "execution_count": null,
   "metadata": {},
   "outputs": [],
   "source": [
    "# new year roller coaster queue\n",
    "q=[2,5,1,3,4]\n",
    "\n",
    "def minimumBribes(q):\n",
    "    bribes = 0\n",
    "    for i in range(len(q)-1,-1,-1):\n",
    "        if q[i] - (i + 1) > 2:\n",
    "            print('Too chaotic')\n",
    "            return\n",
    "        for j in range(max(0, q[i] - 2),i):\n",
    "            if q[j] > q[i]:\n",
    "                bribes+=1\n",
    "    print(bribes)\n",
    "\n",
    "minimumBribes(q)"
   ]
  },
  {
   "cell_type": "code",
   "execution_count": 118,
   "metadata": {},
   "outputs": [],
   "source": [
    "# Array manipulation\n",
    "\n",
    "def arrayManipulation(n, queries):\n",
    "    arr = [0]* (n+1) \n",
    "    for i in queries:\n",
    "        start_index, stop_index, value = i[0]-1, i[1], i[2]\n",
    "        arr[start_index] += value\n",
    "        arr[stop_index] -= value \n",
    "        \n",
    "    r_sum = 0\n",
    "    max_value = 0\n",
    "    for i in range(len(arr)):\n",
    "        r_sum += arr[i]\n",
    "        if r_sum > max_value:\n",
    "            max_value = r_sum\n",
    "        \n",
    "    return max_value\n",
    "    "
   ]
  },
  {
   "cell_type": "markdown",
   "metadata": {},
   "source": [
    "### Dictionary Hashmap"
   ]
  },
  {
   "cell_type": "code",
   "execution_count": 133,
   "metadata": {},
   "outputs": [
    {
     "name": "stdout",
     "output_type": "stream",
     "text": [
      "4\n"
     ]
    }
   ],
   "source": [
    "# Find anagram in string\n",
    "\n",
    "def sherlockAndAnagrams(s):\n",
    "    anag = 0\n",
    "    map = {}\n",
    "    for i in range(len(s)):\n",
    "        for j in range(len(s) - i):\n",
    "            s1 = ''.join(sorted(s[j:j + i + 1]))\n",
    "            map[s1] = map.get(s1, 0) + 1\n",
    "    for key in map:\n",
    "        anag += (map[key] - 1) * map[key] // 2\n",
    "    print(anag)\n",
    "    \n",
    "sherlockAndAnagrams('abba')"
   ]
  },
  {
   "cell_type": "code",
   "execution_count": 145,
   "metadata": {},
   "outputs": [
    {
     "data": {
      "text/plain": [
       "4"
      ]
     },
     "execution_count": 145,
     "metadata": {},
     "output_type": "execute_result"
    }
   ],
   "source": [
    "# Count triplets\n",
    "\n",
    "arr = [1,5,5,25,125]\n",
    "r =5\n",
    "\n",
    "from collections import defaultdict\n",
    "\n",
    "def countTriplets(arr, r):\n",
    "    v2 = defaultdict(int)\n",
    "    v3 = defaultdict(int)\n",
    "    count = 0\n",
    "    for k in arr:\n",
    "        count += v3[k]\n",
    "        v3[k*r] += v2[k]\n",
    "        v2[k*r] += 1\n",
    "    return count\n",
    "\n",
    "countTriplets(arr, r)"
   ]
  },
  {
   "cell_type": "markdown",
   "metadata": {},
   "source": [
    "### Dynamic Programming"
   ]
  },
  {
   "cell_type": "code",
   "execution_count": 153,
   "metadata": {},
   "outputs": [
    {
     "name": "stdout",
     "output_type": "stream",
     "text": [
      "0 3\n",
      "3 7\n",
      "7 7\n",
      "7 13\n",
      "13 13\n"
     ]
    },
    {
     "data": {
      "text/plain": [
       "13"
      ]
     },
     "execution_count": 153,
     "metadata": {},
     "output_type": "execute_result"
    }
   ],
   "source": [
    "# Find the subset of non-adjacent elements with maximum sum.\n",
    "\n",
    "def maxSubsetSum(arr):\n",
    "    a, b = 0, 0 \n",
    "    for val in arr:\n",
    "        a, b = b, max(a, a+val, b, val)\n",
    "    return b\n",
    "\n",
    "maxSubsetSum([3, 7, 4, 6, 5])\n",
    "    "
   ]
  },
  {
   "cell_type": "code",
   "execution_count": 171,
   "metadata": {},
   "outputs": [],
   "source": [
    "# abbreviation\n",
    "\n",
    "def abbreviation(a, b):\n",
    "    m, n = len(a), len(b)\n",
    "    dp = [[False]*(m+1) for _ in range(n+1)]\n",
    "    dp[0][0] = True\n",
    "    for i in range(n+1):\n",
    "        for j in range(m+1):\n",
    "            if i == 0 and j != 0:\n",
    "                dp[i][j] = a[j-1].islower() and dp[i][j-1]\n",
    "            elif i != 0 and j != 0:\n",
    "                if a[j-1] == b[i-1]:\n",
    "                    dp[i][j] = dp[i-1][j-1]\n",
    "                elif a[j-1].upper() == b[i-1]:\n",
    "                    dp[i][j] = dp[i-1][j-1] or dp[i][j-1]\n",
    "                elif not (a[j-1].isupper() and b[i-1].isupper()):\n",
    "                    dp[i][j] = dp[i][j-1]\n",
    "    return \"YES\" if dp[n][m] else \"NO\"\n",
    "    "
   ]
  },
  {
   "cell_type": "code",
   "execution_count": 228,
   "metadata": {},
   "outputs": [
    {
     "data": {
      "text/plain": [
       "'Pattern Matched at index (8, 10)'"
      ]
     },
     "execution_count": 228,
     "metadata": {},
     "output_type": "execute_result"
    }
   ],
   "source": [
    "# Pattern Matching - Robin Karp algorithm\n",
    "import math\n",
    "\n",
    "string = 'ccaccaaedba'\n",
    "pattern = 'cca'\n",
    "\n",
    "def hash_function_string(s):\n",
    "    string_hash = 0\n",
    "    degree = len(s)\n",
    "    for c in s:\n",
    "        degree -= 1\n",
    "        string_hash += ord(c)%128 * int(math.pow(128, degree))\n",
    "    return string_hash\n",
    "\n",
    "def hash_function_char(c):\n",
    "    return ord(c)%128\n",
    "\n",
    "def patternMatching(string, pattern):\n",
    "    pattern_hash = hash_function_string(pattern)\n",
    "    l = len(pattern)\n",
    "    start_string_hash = hash_function_string(string[:l])\n",
    "    \n",
    "    for i in range(len(string)-l+1):\n",
    "        if start_string_hash == pattern_hash:\n",
    "            return \"Pattern Matched at index ({}, {})\".format(i, i+l-1)\n",
    "        else:\n",
    "            start_string_hash = (start_string_hash - hash_function_char(string[i])* int(math.pow(128,(l-1))))*128 + hash_function_char(string[i+l])\n",
    "    \n",
    "                                 \n",
    "    return \"Pattern not matched\"\n",
    "\n",
    "patternMatching(string, 'dba')"
   ]
  },
  {
   "cell_type": "code",
   "execution_count": null,
   "metadata": {},
   "outputs": [],
   "source": []
  }
 ],
 "metadata": {
  "kernelspec": {
   "display_name": "Python 3",
   "language": "python",
   "name": "python3"
  },
  "language_info": {
   "codemirror_mode": {
    "name": "ipython",
    "version": 3
   },
   "file_extension": ".py",
   "mimetype": "text/x-python",
   "name": "python",
   "nbconvert_exporter": "python",
   "pygments_lexer": "ipython3",
   "version": "3.6.3"
  }
 },
 "nbformat": 4,
 "nbformat_minor": 2
}
