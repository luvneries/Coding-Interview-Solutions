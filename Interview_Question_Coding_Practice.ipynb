{
 "cells": [
  {
   "cell_type": "markdown",
   "metadata": {},
   "source": [
    "## Coding interview preparation kit\n",
    "\n",
    "This notebook can be used to practice coding question commonly asked by tech companies. <br>\n",
    "Let's get started !!"
   ]
  },
  {
   "cell_type": "code",
   "execution_count": 7,
   "metadata": {},
   "outputs": [
    {
     "data": {
      "text/plain": [
       "[1, 2, 3, 4, 5, 6, 8, 9, 10]"
      ]
     },
     "execution_count": 7,
     "metadata": {},
     "output_type": "execute_result"
    }
   ],
   "source": [
    "# Flattening a list\n",
    "\n",
    "arr = [[1,2,3],[4,5,[6,[7],8],9],10]\n",
    "\n",
    "nl = []\n",
    "def flatten_list(arr):\n",
    "    if len(arr)<=1:\n",
    "        return\n",
    "    for i in arr:\n",
    "        if isinstance(i, list):\n",
    "            flatten_list(i)\n",
    "        else:\n",
    "            nl.append(i)\n",
    "    return nl\n",
    "\n",
    "flatten_list(arr)    "
   ]
  },
  {
   "cell_type": "code",
   "execution_count": 12,
   "metadata": {},
   "outputs": [
    {
     "data": {
      "text/plain": [
       "[[4, 3, 2, 1], [8, 7, 6, 5], [12, 11, 10, 9]]"
      ]
     },
     "execution_count": 12,
     "metadata": {},
     "output_type": "execute_result"
    }
   ],
   "source": [
    "# Reverse nested list\n",
    "\n",
    "arr = [[1,2,3,4],[5,6,7,8],[9,10,11,12]]\n",
    "\n",
    "def reverse_list(arr):\n",
    "    result = []\n",
    "    for i in arr:\n",
    "        result.append(i[::-1])\n",
    "    return result\n",
    "    \n",
    "reverse_list(arr)"
   ]
  },
  {
   "cell_type": "code",
   "execution_count": 26,
   "metadata": {},
   "outputs": [
    {
     "data": {
      "text/plain": [
       "3"
      ]
     },
     "execution_count": 26,
     "metadata": {},
     "output_type": "execute_result"
    }
   ],
   "source": [
    "# Finding greates common divisor in 2 digits\n",
    "def gcd(A, B):\n",
    "    if A==0 or B == 0:\n",
    "        return A + B\n",
    "    if A==B:\n",
    "        return A\n",
    "    return gcd(A%B, B%A)\n",
    "\n",
    "gcd(12,3)"
   ]
  },
  {
   "cell_type": "code",
   "execution_count": 30,
   "metadata": {},
   "outputs": [
    {
     "data": {
      "text/plain": [
       "'y'"
      ]
     },
     "execution_count": 30,
     "metadata": {},
     "output_type": "execute_result"
    }
   ],
   "source": [
    "# Char/Number occured in array\n",
    "\n",
    "def occuring(arr):\n",
    "    d = {}\n",
    "    for i in arr:\n",
    "        d[i] = d.get(i,0)+1\n",
    "    for k, v in d.items():\n",
    "        if v==1:            # Change occurence as per your requirements\n",
    "            return k\n",
    "        \n",
    "occuring([0,0,1,1,2,2,3])\n",
    "\n",
    "occuring('mynameispankaj')"
   ]
  },
  {
   "cell_type": "code",
   "execution_count": 51,
   "metadata": {},
   "outputs": [
    {
     "name": "stdout",
     "output_type": "stream",
     "text": [
      "[1 1 2 3 3 7 7 3 7 3]\n"
     ]
    },
    {
     "data": {
      "text/plain": [
       "[1, 2, 3, 7]"
      ]
     },
     "execution_count": 51,
     "metadata": {},
     "output_type": "execute_result"
    }
   ],
   "source": [
    "# Remove duplicates\n",
    "\n",
    "import numpy as np\n",
    "x = np.random.randint(1,10,10)\n",
    "print(x)\n",
    "\n",
    "# for unsorted data, we use extra memory\n",
    "def remove_duplicates(x):\n",
    "    l = []\n",
    "    for i in x:\n",
    "        if i in l:\n",
    "            pass\n",
    "        else:\n",
    "            l.append(i)\n",
    "    return l\n",
    "\n",
    "remove_duplicates(x)"
   ]
  },
  {
   "cell_type": "code",
   "execution_count": 52,
   "metadata": {},
   "outputs": [
    {
     "data": {
      "text/plain": [
       "[1, 3, 2, 4]"
      ]
     },
     "execution_count": 52,
     "metadata": {},
     "output_type": "execute_result"
    }
   ],
   "source": [
    "# for sorted data we can do this without using extra memory\n",
    "\n",
    "x=[1,1,1,3,3,3,2,2,2,4]\n",
    "\n",
    "def remove_duplicates(x):\n",
    "    counter = 0\n",
    "    for i in range(len(x)-1):\n",
    "        if x[i] == x[i+1]:\n",
    "            counter += 1\n",
    "        elif counter > 0:\n",
    "            x[(i+1) - counter] = x[i+1]\n",
    "    newLength = len(x) - counter \n",
    "    return x[:newLength]\n",
    "\n",
    "remove_duplicates(x)"
   ]
  },
  {
   "cell_type": "code",
   "execution_count": 58,
   "metadata": {},
   "outputs": [],
   "source": [
    "s = \"\"\"On investigating we found that column level defaults were missing this table \n",
    "and I am not sure how this could have happend. \n",
    "Checking with you to see if this could have happend while you were testing regional sub-partioning. \n",
    "Please confirm back ASAP. For now I have manually added ap column level default to continue with the batch.\n",
    "\"\"\""
   ]
  },
  {
   "cell_type": "code",
   "execution_count": 72,
   "metadata": {},
   "outputs": [
    {
     "data": {
      "text/plain": [
       "3"
      ]
     },
     "execution_count": 72,
     "metadata": {},
     "output_type": "execute_result"
    }
   ],
   "source": [
    "# Count subString\n",
    "\n",
    "ss='ap'\n",
    "def count_sub_string(s, ss):\n",
    "    count = 0\n",
    "    for i in range(len(s)-len(ss)):\n",
    "        if s[i:i+len(ss)] == ss:\n",
    "            count += 1\n",
    "    return count\n",
    "\n",
    "count_sub_string(s, ss)"
   ]
  },
  {
   "cell_type": "code",
   "execution_count": 63,
   "metadata": {},
   "outputs": [
    {
     "data": {
      "text/plain": [
       "45"
      ]
     },
     "execution_count": 63,
     "metadata": {},
     "output_type": "execute_result"
    }
   ],
   "source": [
    "# count distinct words\n",
    "\n",
    "def count_distinct_words(s):\n",
    "    l = []\n",
    "    for i in s.lower().split():\n",
    "        if i not in l:\n",
    "            l.append(i)\n",
    "    return len(l)\n",
    "\n",
    "count_distinct_words(s)"
   ]
  },
  {
   "cell_type": "code",
   "execution_count": 78,
   "metadata": {},
   "outputs": [
    {
     "data": {
      "text/plain": [
       "(3, 'this')"
      ]
     },
     "execution_count": 78,
     "metadata": {},
     "output_type": "execute_result"
    }
   ],
   "source": [
    "# Most frequent words using dictionary \n",
    "\n",
    "def most_frequent_words(s):\n",
    "    d = {}\n",
    "    for word in s.lower().split():\n",
    "            d[word] = d.get(word, 0)+1    \n",
    "    return sorted(((v,k) for k,v in d.items()), reverse=True, key=lambda x: x[0])[0]\n",
    "\n",
    "most_frequent_words(s)"
   ]
  },
  {
   "cell_type": "code",
   "execution_count": 93,
   "metadata": {},
   "outputs": [
    {
     "data": {
      "text/plain": [
       "True"
      ]
     },
     "execution_count": 93,
     "metadata": {},
     "output_type": "execute_result"
    }
   ],
   "source": [
    "# find sum of any 2 number in a list is equal to a given sum\n",
    "arr = [1, 2,3,4,5,6,7]\n",
    "\n",
    "def sum_equals_num(arr, num):\n",
    "    for i in range(len(arr)):\n",
    "        for j in range(i, len(arr)):\n",
    "            if arr[i] + arr[j] == num:\n",
    "                return True\n",
    "    return False\n",
    "\n",
    "sum_equals_num(arr, 3)"
   ]
  },
  {
   "cell_type": "code",
   "execution_count": 339,
   "metadata": {},
   "outputs": [
    {
     "data": {
      "text/plain": [
       "True"
      ]
     },
     "execution_count": 339,
     "metadata": {},
     "output_type": "execute_result"
    }
   ],
   "source": [
    "import re\n",
    "\n",
    "s = \"On Investigating 9 i found\"\n",
    "\n",
    "re.match(r'On I....tigating 9 i f..nd', s, re.I).group()\n",
    "re.search(r'I....tigating 9 i f..nd', s, re.I).group()\n",
    "re.sub('\\D', \"\", s)\n",
    "\n",
    "# Match string\n",
    "\n",
    "email = \"myemail87@domain.com\"\n",
    "bool(re.search(r'[\\w]+@[\\w]+.[\\w]+', email))"
   ]
  },
  {
   "cell_type": "code",
   "execution_count": 337,
   "metadata": {},
   "outputs": [
    {
     "data": {
      "text/plain": [
       "True"
      ]
     },
     "execution_count": 337,
     "metadata": {},
     "output_type": "execute_result"
    }
   ],
   "source": [
    "bool(re.search(r'\\w+@\\w+.\\w+', \"myname12@domain.com\"))"
   ]
  },
  {
   "cell_type": "code",
   "execution_count": 151,
   "metadata": {},
   "outputs": [
    {
     "data": {
      "text/plain": [
       "True"
      ]
     },
     "execution_count": 151,
     "metadata": {},
     "output_type": "execute_result"
    }
   ],
   "source": [
    "# Unique String\n",
    "\n",
    "string = \"uniqeStrg\"\n",
    "def unique(string):\n",
    "    char_set = [0 for _ in range(128)]\n",
    "    for char in string:\n",
    "        val = ord(char)\n",
    "        if char_set[val]:\n",
    "            return False\n",
    "        char_set[val] = 1\n",
    "    return True\n",
    "\n",
    "unique(string)"
   ]
  },
  {
   "cell_type": "code",
   "execution_count": 163,
   "metadata": {},
   "outputs": [
    {
     "data": {
      "text/plain": [
       "False"
      ]
     },
     "execution_count": 163,
     "metadata": {},
     "output_type": "execute_result"
    }
   ],
   "source": [
    "# Permutation\n",
    "\n",
    "from collections import Counter\n",
    "\n",
    "def permutation(s1, s2, is_sorted=False):\n",
    "    if len(s1) != len(s2):\n",
    "        return False\n",
    "    if is_sorted:\n",
    "        if s1 == s2:\n",
    "            return True\n",
    "        else:\n",
    "            return False\n",
    "    else:\n",
    "        counter = Counter()\n",
    "        for i in s1:\n",
    "            counter[i] += 1\n",
    "        for i in s2:\n",
    "            if counter[i] == 0:\n",
    "                return False\n",
    "            else:\n",
    "                counter[i] -= 1\n",
    "    return True"
   ]
  },
  {
   "cell_type": "code",
   "execution_count": 401,
   "metadata": {},
   "outputs": [
    {
     "data": {
      "text/plain": [
       "True"
      ]
     },
     "execution_count": 401,
     "metadata": {},
     "output_type": "execute_result"
    }
   ],
   "source": [
    "# Check if line/phrase is palindrome\n",
    "# all characters appears twice\n",
    "#exception of only one char may or may not appear once.\n",
    "\n",
    "def char_number(c):\n",
    "    a = ord('a')\n",
    "    z = ord('z')\n",
    "    A = ord('A')\n",
    "    Z = ord('Z')\n",
    "    val = ord(c)\n",
    "    \n",
    "    if a <= val <= z:\n",
    "        return val - a\n",
    "    elif A <= val <= Z:\n",
    "        return val - A\n",
    "    else:\n",
    "        return -1\n",
    "            \n",
    "\n",
    "def palindrome(phrase):\n",
    "    table = [0 for _ in range(26)]\n",
    "    count_odd = 0\n",
    "    for c in phrase:\n",
    "        x = char_number(c)\n",
    "        if x != -1:\n",
    "            table[x] += 1\n",
    "            if table[x] % 2:\n",
    "                count_odd += 1\n",
    "            else: count_odd -= 1\n",
    "    return count_odd <= 1\n",
    "\n",
    "\n",
    "palindrome(\"This i This\")"
   ]
  },
  {
   "cell_type": "code",
   "execution_count": 403,
   "metadata": {},
   "outputs": [
    {
     "data": {
      "text/plain": [
       "True"
      ]
     },
     "execution_count": 403,
     "metadata": {},
     "output_type": "execute_result"
    }
   ],
   "source": [
    "# One edit to guess the string\n",
    "\n",
    "def one_away(s1, s2):\n",
    "    if len(s1) == len(s2):\n",
    "        return one_edit_replace(s1, s2)\n",
    "    elif len(s1)+1 == len(s2):\n",
    "        return one_edit_insert(s1, s2)\n",
    "    elif len(s1) == len(s1)+1:\n",
    "        return one_edit_insert(s1, s2)\n",
    "    else:\n",
    "        return False\n",
    "    \n",
    "\n",
    "def one_edit_replace(s1, s2):\n",
    "    edited = False\n",
    "    for c1, c2 in zip(s1, s2):\n",
    "        if c1 != c2:\n",
    "            if edited:\n",
    "                return False\n",
    "            edited = True\n",
    "    return True\n",
    "    \n",
    "\n",
    "def one_edit_insert(s1, s2):\n",
    "    edited = False\n",
    "    i, j = 0, 0\n",
    "    while i < len(s1) and j < len(s2):\n",
    "        if s1[i] != s2[j]:\n",
    "            if edited:\n",
    "                return False\n",
    "            edited = True\n",
    "            j += 1\n",
    "        else:\n",
    "            i += 1\n",
    "            j += 1\n",
    "        return True\n",
    "    \n",
    "s1, s2 = 'pale', 'pales'\n",
    "\n",
    "one_away(s1, s2)"
   ]
  },
  {
   "cell_type": "code",
   "execution_count": 236,
   "metadata": {},
   "outputs": [
    {
     "data": {
      "text/plain": [
       "'a2b2'"
      ]
     },
     "execution_count": 236,
     "metadata": {},
     "output_type": "execute_result"
    }
   ],
   "source": [
    "# Count number of char in string using dictionary/hashtable\n",
    "\n",
    "def string_compression(string):\n",
    "    d={}\n",
    "    for c in string:\n",
    "        d[c] = d.get(c, 0) + 1\n",
    "    \n",
    "    result = \"\"\n",
    "    for k, v in d.items():\n",
    "        result = result + k + str(v)\n",
    "    return result\n",
    "    \n",
    "string_compression('aaabbcc')\n",
    "\n",
    "\n",
    "# using counter\n",
    "\n",
    "from collections import Counter\n",
    "\n",
    "def string_compression(string):\n",
    "    counter = Counter(string)\n",
    "    result = ''\n",
    "    for k, v in counter.items():\n",
    "        result = result + k + str(v)\n",
    "    return result\n",
    "\n",
    "string_compression('aaabbcccc')\n",
    "\n",
    "# Without using extra memory only if string is sorted\n",
    "\n",
    "def string_compression(string):\n",
    "    counter = 1\n",
    "    result = ''\n",
    "    for i, char in enumerate(string):\n",
    "        if i+1 < len(string) and string[i] != string[i+1] :\n",
    "            result = result + char + str(counter)\n",
    "            counter = 0\n",
    "        counter += 1\n",
    "    return result\n",
    "\n",
    "string_compression('aabbcc')"
   ]
  },
  {
   "cell_type": "code",
   "execution_count": 394,
   "metadata": {},
   "outputs": [
    {
     "data": {
      "text/plain": [
       "'gfe$c$ba'"
      ]
     },
     "execution_count": 394,
     "metadata": {},
     "output_type": "execute_result"
    }
   ],
   "source": [
    "# Reverse string with special characters.\n",
    "# Leave special characters \"$\" at same place.\n",
    "\n",
    "string = 'abc$e$fg'\n",
    "def reverse_string(string):\n",
    "    s = list(string)\n",
    "    first = 0\n",
    "    last = len(s)-1\n",
    "    while first < last:\n",
    "        if not s[first].isalpha():\n",
    "            first += 1\n",
    "        elif not s[last].isalpha():\n",
    "            last -= 1\n",
    "        else:\n",
    "            s[first], s[last] = s[last], s[first]\n",
    "            first += 1\n",
    "            last -= 1\n",
    "    return ''.join(s)\n",
    "\n",
    "reverse_string(string)\n"
   ]
  },
  {
   "cell_type": "code",
   "execution_count": 345,
   "metadata": {},
   "outputs": [
    {
     "data": {
      "text/plain": [
       "'B'"
      ]
     },
     "execution_count": 345,
     "metadata": {},
     "output_type": "execute_result"
    }
   ],
   "source": [
    "# Recurring character in a string\n",
    "\n",
    "def recurring_char(s):\n",
    "    l=[]\n",
    "    for char in s:\n",
    "        if char in l:\n",
    "            return char\n",
    "        else:\n",
    "            l.append(char)\n",
    "    return \"Not found\"\n",
    "\n",
    "recurring_char(\"ABaB\")"
   ]
  },
  {
   "cell_type": "code",
   "execution_count": 372,
   "metadata": {},
   "outputs": [
    {
     "data": {
      "image/png": "[encoded data removed]",
      "text/plain": [
       "<matplotlib.figure.Figure at 0x116aa3518>"
      ]
     },
     "metadata": {},
     "output_type": "display_data"
    }
   ],
   "source": [
    "# K closet points\n",
    "plt.figure(figsize=(4,2))\n",
    "points = np.array([[2,2],[1.5, 2], [3.5,4],[4,4.5],[2.5,2.5],[1.7,1.9]])\n",
    "plt.scatter(points[:,0], points[:,1])\n",
    "plt.show()"
   ]
  },
  {
   "cell_type": "code",
   "execution_count": 390,
   "metadata": {},
   "outputs": [
    {
     "data": {
      "text/plain": [
       "array([[2.5, 2.5],\n",
       "       [3.5, 4. ],\n",
       "       [2. , 2. ]])"
      ]
     },
     "execution_count": 390,
     "metadata": {},
     "output_type": "execute_result"
    }
   ],
   "source": [
    "import math \n",
    "\n",
    "def k_closet_points(points, k, point):\n",
    "    distance=[]\n",
    "    for i in points:\n",
    "        x, y = i[0], i[1]\n",
    "        distance.append(math.sqrt((x-point[0])**2 + (y-point[1])**2))\n",
    "    index = np.argsort(distance)[:k]\n",
    "    return np.array([points[i] for i in index])\n",
    "\n",
    "k_closet_points(points, 3, [3,3])"
   ]
  },
  {
   "cell_type": "code",
   "execution_count": 395,
   "metadata": {},
   "outputs": [
    {
     "data": {
      "text/plain": [
       "4"
      ]
     },
     "execution_count": 395,
     "metadata": {},
     "output_type": "execute_result"
    }
   ],
   "source": [
    "# With change in given array count bulbs that are off\n",
    "# Every time u encounter an off bulb turn it on\n",
    "# When you turn any bulb, remaining bulb switch state 1-->0 , 0-->1\n",
    "\n",
    "arr = [1,1,1,0,0,1,1,0,0,1]\n",
    "\n",
    "class Solution:\n",
    "    count=0\n",
    "    bulb_off = 0\n",
    "    def bulbs(self, arr):\n",
    "        for i in range(len(arr)):\n",
    "            if arr[i] is self.bulb_off:\n",
    "                self.count += 1\n",
    "                for j in range(i, len(arr)):\n",
    "                    if arr[j] is self.bulb_off:\n",
    "                        arr[j] = 1\n",
    "                    else:\n",
    "                        arr[j] = 0\n",
    "        return self.count\n",
    "    \n",
    "sol = Solution()\n",
    "sol.bulbs(arr)"
   ]
  },
  {
   "cell_type": "code",
   "execution_count": 396,
   "metadata": {},
   "outputs": [
    {
     "data": {
      "text/plain": [
       "4"
      ]
     },
     "execution_count": 396,
     "metadata": {},
     "output_type": "execute_result"
    }
   ],
   "source": [
    "# This solution doesn't make any change in given array\n",
    "\n",
    "arr = [1,1,1,0,0,1,1,0,0,1]\n",
    "\n",
    "def bulbs_off(arr):\n",
    "    count = 0\n",
    "    bulb_off = 0\n",
    "    for i in range(len(arr)):\n",
    "        if arr[i] is bulb_off:\n",
    "            count += 1\n",
    "            bulb_off = 1 - bulb_off\n",
    "    return count\n",
    "    \n",
    "bulbs_off(arr)  "
   ]
  },
  {
   "cell_type": "code",
   "execution_count": 398,
   "metadata": {},
   "outputs": [
    {
     "data": {
      "text/plain": [
       "array([[ 0.,  0.,  0.,  0.],\n",
       "       [ 0.,  1.,  2.,  2.],\n",
       "       [ 0.,  1., -1., -1.],\n",
       "       [ 0.,  1.,  2.,  2.]])"
      ]
     },
     "execution_count": 398,
     "metadata": {},
     "output_type": "execute_result"
    }
   ],
   "source": [
    "# Minesweeper to place 1 near by and place -1 to actual place where bomb exploded \n",
    "\n",
    "def minesweeper(bombs, num_rows, num_cols):\n",
    "    field = np.zeros((num_rows, num_cols))\n",
    "    for bomb in bombs:\n",
    "        row_i = bomb[0]\n",
    "        col_i = bomb[1]\n",
    "        field[row_i][col_i] = -1\n",
    "        for i in range(row_i-1, row_i+2):\n",
    "            for j in range(col_i-1, col_i+2):\n",
    "                if i >= 0 and i < num_rows and j >= 0 and j < num_cols and field[i][j] != -1:\n",
    "                    field[i][j] += 1\n",
    "    return field\n",
    "    \n",
    "minesweeper([[2,2], [2,3]], 4, 4)"
   ]
  },
  {
   "cell_type": "code",
   "execution_count": 250,
   "metadata": {},
   "outputs": [
    {
     "data": {
      "text/plain": [
       "array([[7, 4, 1],\n",
       "       [8, 5, 2],\n",
       "       [9, 6, 3]])"
      ]
     },
     "execution_count": 250,
     "metadata": {},
     "output_type": "execute_result"
    }
   ],
   "source": [
    "# Rotate a matrix\n",
    "\n",
    "matrix = np.array([[1,2,3],[4,5,6],[7,8,9]])\n",
    "\n",
    "def rotate_matrix(matrix):\n",
    "    n=len(matrix)\n",
    "    \n",
    "    for layer in range(n//2):\n",
    "        first, last = layer, n-layer-1\n",
    "        \n",
    "        for i in range(first, last):\n",
    "            top = matrix[layer][i]\n",
    "            \n",
    "            # Left --> Top\n",
    "            matrix[layer][i] = matrix[-i-1][layer]\n",
    "            \n",
    "            # Bottom --> Left\n",
    "            matrix[-i-1][layer] = matrix[layer-1][-i-1]\n",
    "            \n",
    "            # Right --> Bottom\n",
    "            matrix[-layer-1][-i-1] = matrix[i][-layer-1]\n",
    "            \n",
    "            # Top --> Right\n",
    "            matrix[i][-layer-1] = top\n",
    "    return matrix\n",
    "\n",
    "rotate_matrix(matrix)\n",
    "            \n",
    "    "
   ]
  },
  {
   "cell_type": "code",
   "execution_count": 264,
   "metadata": {},
   "outputs": [
    {
     "data": {
      "text/plain": [
       "True"
      ]
     },
     "execution_count": 264,
     "metadata": {},
     "output_type": "execute_result"
    }
   ],
   "source": [
    "# Check if a string is substring of other\n",
    "\n",
    "def check_substring(s, ss):\n",
    "    return s.find(ss) != -1\n",
    "\n",
    "def string_rotation(s1, s2):\n",
    "    if len(s1) == len(s2):\n",
    "        return check_substring(s1+s1, s2)\n",
    "    return False\n",
    "\n",
    "string_rotation('waterbottle', 'bottlewater')\n",
    "        \n",
    "    "
   ]
  },
  {
   "cell_type": "code",
   "execution_count": 269,
   "metadata": {},
   "outputs": [
    {
     "data": {
      "text/plain": [
       "('1', '1', datetime.datetime(2018, 4, 8, 9, 35, 14))"
      ]
     },
     "execution_count": 269,
     "metadata": {},
     "output_type": "execute_result"
    }
   ],
   "source": [
    "# Make some sql connection\n",
    "\n",
    "import MySQLdb\n",
    "\n",
    "conn = MySQLdb.connect(host='localhost', user='root', password='root', database='Uber')\n",
    "\n",
    "sql = 'select * from time_taken'\n",
    "\n",
    "cursor = conn.cursor()\n",
    "cursor.execute(sql)\n",
    "cursor.fetchone()"
   ]
  },
  {
   "cell_type": "code",
   "execution_count": 314,
   "metadata": {},
   "outputs": [
    {
     "data": {
      "text/plain": [
       "5"
      ]
     },
     "execution_count": 314,
     "metadata": {},
     "output_type": "execute_result"
    }
   ],
   "source": [
    "# Max length of integers which makes zero sum in a list with quadratic time complexity\n",
    "\n",
    "def zero_sum(arr):\n",
    "    max_len = 0\n",
    "    for i in range(len(arr)):\n",
    "        curr_sum = 0\n",
    "        for j in range(i, len(arr)):\n",
    "            curr_sum += arr[j]\n",
    "            if curr_sum == 0:\n",
    "                max_len = max(max_len, (j-i)+1)\n",
    "    return max_len\n",
    "\n",
    "zero_sum([15, -2, 2, -8, 1, 7, 10, 13])\n",
    "                "
   ]
  },
  {
   "cell_type": "code",
   "execution_count": 320,
   "metadata": {},
   "outputs": [
    {
     "data": {
      "text/plain": [
       "5"
      ]
     },
     "execution_count": 320,
     "metadata": {},
     "output_type": "execute_result"
    }
   ],
   "source": [
    "# Max length of zero sum with hashmap - linear time complexity\n",
    "\n",
    "def zero_sum(arr):\n",
    "    hash_map = {}\n",
    "    max_len = 0\n",
    "    curr_sum = 0\n",
    "    \n",
    "    for i in range(len(arr)):\n",
    "        curr_sum += arr[i]\n",
    "        if arr[i] == 0 and max_len == 0:\n",
    "            max_len = 1\n",
    "        if curr_sum == 0:\n",
    "            max_len = i + 1\n",
    "        if curr_sum in hash_map:\n",
    "            max_len = max(max_len, i - hash_map[curr_sum])\n",
    "        else:\n",
    "            hash_map[curr_sum] = i\n",
    "    return max_len\n",
    "        \n",
    "\n",
    "zero_sum([15, -2, 2, -8, 1, 7, 10, 13])\n"
   ]
  },
  {
   "cell_type": "code",
   "execution_count": 343,
   "metadata": {},
   "outputs": [
    {
     "data": {
      "text/plain": [
       "[2, 3, 9]"
      ]
     },
     "execution_count": 343,
     "metadata": {},
     "output_type": "execute_result"
    }
   ],
   "source": [
    "# Add 1 to a list and carry the number if sum becomes 10\n",
    "\n",
    "arr = [2,3,9]\n",
    "\n",
    "def add_one(arr):\n",
    "    carry = 1\n",
    "    result = [0] * len(arr)\n",
    "    for i in range(len(arr)-1,-1,-1):\n",
    "        if arr[i] + carry % 10 == 0:\n",
    "            carry = 1\n",
    "        else:\n",
    "            carry = 0\n",
    "        result[i] = arr[i] + carry\n",
    "    if carry == 1:\n",
    "        result = [0] * len(arr)+1\n",
    "        result[0] = 1\n",
    "    return result\n",
    "\n",
    "add_one(arr)"
   ]
  },
  {
   "cell_type": "code",
   "execution_count": 283,
   "metadata": {},
   "outputs": [
    {
     "data": {
      "text/plain": [
       "25"
      ]
     },
     "execution_count": 283,
     "metadata": {},
     "output_type": "execute_result"
    }
   ],
   "source": [
    "# measure water in bars\n",
    "\n",
    "bars = [4,0,2,0,1,0,4,0,5,0,3,0,1]\n",
    "\n",
    "def measure_water(bars):\n",
    "    water=0\n",
    "    for i in range(1,len(bars)):\n",
    "        vol_at_curr_bar = min(max(bars[:i]), max(bars[i:])) - bars[i]\n",
    "        if vol_at_curr_bar > 0:\n",
    "            water += vol_at_curr_bar\n",
    "    return water\n",
    "\n",
    "measure_water(bars)"
   ]
  },
  {
   "cell_type": "code",
   "execution_count": 313,
   "metadata": {},
   "outputs": [
    {
     "data": {
      "image/png": "[encoded data removed]",
      "text/plain": [
       "<matplotlib.figure.Figure at 0x1162a74e0>"
      ]
     },
     "metadata": {},
     "output_type": "display_data"
    }
   ],
   "source": [
    "import matplotlib.pyplot as plt\n",
    "%matplotlib inline\n",
    "\n",
    "plt.figure(figsize=(8,2))\n",
    "plt.bar(range(len(bars)), bars)\n",
    "plt.show()"
   ]
  },
  {
   "cell_type": "markdown",
   "metadata": {},
   "source": [
    "### Trees"
   ]
  },
  {
   "cell_type": "code",
   "execution_count": 296,
   "metadata": {},
   "outputs": [],
   "source": [
    "class Node:\n",
    "    def __init__(self, value, left=None, right=None):\n",
    "        self.value = value\n",
    "        self.left = left\n",
    "        self.right = right\n",
    "        \n",
    "    def __str__(self):\n",
    "        return str(self.value)"
   ]
  },
  {
   "cell_type": "code",
   "execution_count": 286,
   "metadata": {},
   "outputs": [],
   "source": [
    "# Creating a binary tree\n",
    "\n",
    "def create_tree(mapping, head_value):\n",
    "    head = Node(head_value)\n",
    "    nodes = {head_value:head}\n",
    "    for key, value in mapping.items():\n",
    "        nodes[value[0]] = Node(value[0])\n",
    "        nodes[value[1]] = Node(value[1])\n",
    "    for key, value in mapping.items():\n",
    "        nodes[key].left = nodes[value[0]]\n",
    "        nodes[key].right = nodes[value[1]]\n",
    "    return head\n",
    "    \n",
    "mapping = {7:[5,9],5:[3,6],3:[2,1], 9:[8,10]}\n",
    "\n",
    "tree = create_tree(mapping, 7)"
   ]
  },
  {
   "cell_type": "code",
   "execution_count": 294,
   "metadata": {},
   "outputs": [],
   "source": [
    "# Check if tree is binary search tree\n",
    "\n",
    "def isBST(node, lef_child=None, right_child = None):\n",
    "    if left_child != None and node.value < left_child:\n",
    "        return False\n",
    "    if right_child != None and node.value > right_child:\n",
    "        return False\n",
    "    \n",
    "    is_left_bst = True\n",
    "    is_left_bst = True\n",
    "    if node.left != None:\n",
    "        is_left_bst = isBST(node.left, left_child, node.value)\n",
    "    if is_left_bst and node.right != None:\n",
    "        is_right_bst = isBST(node.right, node.value, right_child)\n",
    "    return is_left_bst and is_right_bst\n"
   ]
  },
  {
   "cell_type": "code",
   "execution_count": 298,
   "metadata": {},
   "outputs": [
    {
     "data": {
      "text/plain": [
       "3"
      ]
     },
     "execution_count": 298,
     "metadata": {},
     "output_type": "execute_result"
    }
   ],
   "source": [
    "# Count of leaf node of a binary tree\n",
    "\n",
    "def count_leaf(node):\n",
    "    if node is None:\n",
    "        return 0\n",
    "    if node.left is None and node.right is None:\n",
    "        return 1\n",
    "    else:\n",
    "        return count_leaf(node.right) + count_leaf(node.left)\n",
    "    \n",
    "root_node = Node(10)\n",
    "node1 = Node(5)\n",
    "node2 = Node(15)\n",
    "node3 = Node(3)\n",
    "node4 = Node(8)\n",
    "\n",
    "root_node.left = node1\n",
    "root_node.right = node2\n",
    "node1.left = node3\n",
    "node1.right = node4\n",
    "\n",
    "\n",
    "#            10\n",
    "#           /  \\\n",
    "#          5    15\n",
    "#         / \\    \n",
    "#        3   8\n",
    "#\n",
    "count_leaf(root_node)\n"
   ]
  },
  {
   "cell_type": "code",
   "execution_count": 299,
   "metadata": {},
   "outputs": [
    {
     "data": {
      "text/plain": [
       "5"
      ]
     },
     "execution_count": 299,
     "metadata": {},
     "output_type": "execute_result"
    }
   ],
   "source": [
    "# Size of a binary tree\n",
    "\n",
    "def size(node):\n",
    "    if node is None:\n",
    "        return 0\n",
    "    else:\n",
    "        return size(node.left) + 1 + size(node.right)\n",
    "\n",
    "size(root_node)"
   ]
  }
 ],
 "metadata": {
  "kernelspec": {
   "display_name": "Python 3",
   "language": "python",
   "name": "python3"
  },
  "language_info": {
   "codemirror_mode": {
    "name": "ipython",
    "version": 3
   },
   "file_extension": ".py",
   "mimetype": "text/x-python",
   "name": "python",
   "nbconvert_exporter": "python",
   "pygments_lexer": "ipython3",
   "version": "3.6.3"
  }
 },
 "nbformat": 4,
 "nbformat_minor": 2
}
